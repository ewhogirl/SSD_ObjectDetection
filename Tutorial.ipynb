{
 "cells": [
  {
   "cell_type": "markdown",
   "metadata": {},
   "source": [
    "Resources Used\n",
    "- wget.download('https://tensorflow-object-detection-api-tutorial.readthedocs.io/en/latest/_downloads/da4babe668a8afb093cc7776d7e630f3/generate_tfrecord.py')\n",
    "- Setup https://tensorflow-object-detection-api-tutorial.readthedocs.io/en/latest/install.html"
   ]
  },
  {
   "cell_type": "markdown",
   "metadata": {},
   "source": [
    "# 0. Setup Paths"
   ]
  },
  {
   "cell_type": "code",
   "execution_count": 1,
   "metadata": {},
   "outputs": [],
   "source": [
    "WORKSPACE_PATH = 'Tensorflow/workspace'\n",
    "SCRIPTS_PATH = 'Tensorflow/scripts'\n",
    "APIMODEL_PATH = 'Tensorflow/models'\n",
    "ANNOTATION_PATH = WORKSPACE_PATH+'/annotations'\n",
    "IMAGE_PATH = WORKSPACE_PATH+'/images'\n",
    "MODEL_PATH = WORKSPACE_PATH+'/models'\n",
    "PRETRAINED_MODEL_PATH = WORKSPACE_PATH+'/pre-trained-models'\n",
    "CONFIG_PATH = MODEL_PATH+'/my_ssd_mobnet/pipeline.config'\n",
    "CHECKPOINT_PATH = MODEL_PATH+'/my_ssd_mobnet/'"
   ]
  },
  {
   "cell_type": "code",
   "execution_count": 2,
   "metadata": {},
   "outputs": [],
   "source": [
    "#import tensorflow as tf\n",
    "\n",
    "#!pip install -q tflite_support\n",
    "\n",
    "# export_dir = \"Tensorflow/models/my_saved_model\"\n",
    "# converer = tf.lite.TFLiteConverter.from_saved_model(export_dir)\n",
    "# tflite_model = converter.convert()\n",
    "# open(\"converted_model.tflite\", \"wb\").write(tflite_model)\n"
   ]
  },
  {
   "cell_type": "markdown",
   "metadata": {},
   "source": [
    "# 1. Create Label Map"
   ]
  },
  {
   "cell_type": "code",
   "execution_count": 3,
   "metadata": {},
   "outputs": [],
   "source": [
    "#labels = [{'name':'forward', 'id':1}, {'name':'backward', 'id':2}, {'name':'up', 'id':3}]\n",
    "labels = [{'name':'forward', 'id':1}, {'name':'backward', 'id':2}, {'name':'up', 'id':3}, {'name':'down', 'id':4}, {'name':'right', 'id':5}, {'name':'left', 'id':6}, {'name':'stop', 'id':7}]\n",
    "\n",
    "labels\n",
    "\n",
    "with open(ANNOTATION_PATH + '/label_map.pbtxt', 'w') as f:\n",
    "    for label in labels:\n",
    "        f.write('item{\\n')\n",
    "        f.write('\\tname:\\'{}\\'\\n'.format(label['name']))\n",
    "        f.write('\\tid:{}\\n'.format(label['id']))\n",
    "        f.write('}\\n')"
   ]
  },
  {
   "cell_type": "code",
   "execution_count": 4,
   "metadata": {},
   "outputs": [
    {
     "data": {
      "text/plain": [
       "[{'name': 'forward', 'id': 1},\n",
       " {'name': 'backward', 'id': 2},\n",
       " {'name': 'up', 'id': 3},\n",
       " {'name': 'down', 'id': 4},\n",
       " {'name': 'right', 'id': 5},\n",
       " {'name': 'left', 'id': 6},\n",
       " {'name': 'stop', 'id': 7}]"
      ]
     },
     "execution_count": 4,
     "metadata": {},
     "output_type": "execute_result"
    }
   ],
   "source": [
    "labels"
   ]
  },
  {
   "cell_type": "code",
   "execution_count": null,
   "metadata": {},
   "outputs": [],
   "source": []
  },
  {
   "cell_type": "markdown",
   "metadata": {},
   "source": [
    "# 2. Create TF records"
   ]
  },
  {
   "cell_type": "code",
   "execution_count": null,
   "metadata": {},
   "outputs": [],
   "source": []
  },
  {
   "cell_type": "code",
   "execution_count": 6,
   "metadata": {
    "scrolled": true
   },
   "outputs": [
    {
     "name": "stdout",
     "output_type": "stream",
     "text": [
      "Successfully created the TFRecord file: Tensorflow/workspace/annotations/train.record\n",
      "Successfully created the TFRecord file: Tensorflow/workspace/annotations/test.record\n"
     ]
    }
   ],
   "source": [
    "#!pip install pandas\n",
    "#!pip install tensorflow\n",
    "#!pip install pillow\n",
    "#!pip install tensorflow-object-detection-api\n",
    "\n",
    "!python {SCRIPTS_PATH + '/generate_tfrecord.py'} -x {IMAGE_PATH + '/train'} -l {ANNOTATION_PATH + '/label_map.pbtxt'} -o {ANNOTATION_PATH + '/train.record'}\n",
    "!python {SCRIPTS_PATH + '/generate_tfrecord.py'} -x {IMAGE_PATH + '/test'} -l {ANNOTATION_PATH + '/label_map.pbtxt'} -o {ANNOTATION_PATH + '/test.record'}"
   ]
  },
  {
   "cell_type": "code",
   "execution_count": null,
   "metadata": {},
   "outputs": [],
   "source": []
  },
  {
   "cell_type": "code",
   "execution_count": null,
   "metadata": {},
   "outputs": [],
   "source": []
  },
  {
   "cell_type": "markdown",
   "metadata": {},
   "source": [
    "# 3. Download TF Models Pretrained Models from Tensorflow Model Zoo"
   ]
  },
  {
   "cell_type": "code",
   "execution_count": 13,
   "metadata": {},
   "outputs": [
    {
     "name": "stdout",
     "output_type": "stream",
     "text": [
      "fatal: 대상 경로가('models') 이미 있고 빈 디렉터리가 아닙니다.\r\n"
     ]
    }
   ],
   "source": [
    "!cd Tensorflow && git clone https://github.com/tensorflow/models"
   ]
  },
  {
   "cell_type": "code",
   "execution_count": 7,
   "metadata": {},
   "outputs": [],
   "source": [
    "# 내가 추가한 것\n",
    "#!pip install wget\n",
    "#import wget\n",
    "\n",
    "#wget.download('http://download.tensorflow.org/models/object_detection/tf2/20200711/ssd_mobilenet_v2_fpnlite_320x320_coco17_tpu-8.tar.gz')\n",
    "#!mv ssd_mobilenet_v2_fpnlite_320x320_coco17_tpu-8.tar.gz {PRETRAINED_MODEL_PATH}\n",
    "#!cd {PRETRAINED_MODEL_PATH} && tar -zxvf ssd_mobilenet_v2_fpnlite_320x320_coco17_tpu-8.tar.gz"
   ]
  },
  {
   "cell_type": "markdown",
   "metadata": {},
   "source": [
    "# 4. Copy Model Config to Training Folder"
   ]
  },
  {
   "cell_type": "code",
   "execution_count": 8,
   "metadata": {},
   "outputs": [],
   "source": [
    "CUSTOM_MODEL_NAME = 'my_ssd_mobnet' "
   ]
  },
  {
   "cell_type": "code",
   "execution_count": 9,
   "metadata": {},
   "outputs": [
    {
     "name": "stdout",
     "output_type": "stream",
     "text": [
      "mkdir: Tensorflowworkspacemodelsmy_ssd_mobnet: File exists\r\n"
     ]
    }
   ],
   "source": [
    "!mkdir {'Tensorflow\\workspace\\models\\\\'+CUSTOM_MODEL_NAME}\n",
    "!cp {PRETRAINED_MODEL_PATH+'/ssd_mobilenet_v2_fpnlite_320x320_coco17_tpu-8/pipeline.config'} {MODEL_PATH+'/'+CUSTOM_MODEL_NAME}"
   ]
  },
  {
   "cell_type": "markdown",
   "metadata": {},
   "source": [
    "# 5. Update Config For Transfer Learning"
   ]
  },
  {
   "cell_type": "code",
   "execution_count": 10,
   "metadata": {},
   "outputs": [],
   "source": [
    "\n",
    "import tensorflow as tf\n",
    "\n",
    "from object_detection.utils import config_util\n",
    "from object_detection.protos import pipeline_pb2\n",
    "from google.protobuf import text_format"
   ]
  },
  {
   "cell_type": "code",
   "execution_count": 11,
   "metadata": {},
   "outputs": [],
   "source": [
    "CONFIG_PATH = MODEL_PATH+'/'+CUSTOM_MODEL_NAME+'/pipeline.config'"
   ]
  },
  {
   "cell_type": "code",
   "execution_count": null,
   "metadata": {},
   "outputs": [],
   "source": []
  },
  {
   "cell_type": "code",
   "execution_count": 12,
   "metadata": {},
   "outputs": [],
   "source": [
    "config = config_util.get_configs_from_pipeline_file(CONFIG_PATH)"
   ]
  },
  {
   "cell_type": "code",
   "execution_count": 20,
   "metadata": {},
   "outputs": [
    {
     "data": {
      "text/plain": [
       "{'model': ssd {\n",
       "   num_classes: 90\n",
       "   image_resizer {\n",
       "     fixed_shape_resizer {\n",
       "       height: 320\n",
       "       width: 320\n",
       "     }\n",
       "   }\n",
       "   feature_extractor {\n",
       "     type: \"ssd_mobilenet_v2_fpn_keras\"\n",
       "     depth_multiplier: 1.0\n",
       "     min_depth: 16\n",
       "     conv_hyperparams {\n",
       "       regularizer {\n",
       "         l2_regularizer {\n",
       "           weight: 3.9999998989515007e-05\n",
       "         }\n",
       "       }\n",
       "       initializer {\n",
       "         random_normal_initializer {\n",
       "           mean: 0.0\n",
       "           stddev: 0.009999999776482582\n",
       "         }\n",
       "       }\n",
       "       activation: RELU_6\n",
       "       batch_norm {\n",
       "         decay: 0.996999979019165\n",
       "         scale: true\n",
       "         epsilon: 0.0010000000474974513\n",
       "       }\n",
       "     }\n",
       "     use_depthwise: true\n",
       "     override_base_feature_extractor_hyperparams: true\n",
       "     fpn {\n",
       "       min_level: 3\n",
       "       max_level: 7\n",
       "       additional_layer_depth: 128\n",
       "     }\n",
       "   }\n",
       "   box_coder {\n",
       "     faster_rcnn_box_coder {\n",
       "       y_scale: 10.0\n",
       "       x_scale: 10.0\n",
       "       height_scale: 5.0\n",
       "       width_scale: 5.0\n",
       "     }\n",
       "   }\n",
       "   matcher {\n",
       "     argmax_matcher {\n",
       "       matched_threshold: 0.5\n",
       "       unmatched_threshold: 0.5\n",
       "       ignore_thresholds: false\n",
       "       negatives_lower_than_unmatched: true\n",
       "       force_match_for_each_row: true\n",
       "       use_matmul_gather: true\n",
       "     }\n",
       "   }\n",
       "   similarity_calculator {\n",
       "     iou_similarity {\n",
       "     }\n",
       "   }\n",
       "   box_predictor {\n",
       "     weight_shared_convolutional_box_predictor {\n",
       "       conv_hyperparams {\n",
       "         regularizer {\n",
       "           l2_regularizer {\n",
       "             weight: 3.9999998989515007e-05\n",
       "           }\n",
       "         }\n",
       "         initializer {\n",
       "           random_normal_initializer {\n",
       "             mean: 0.0\n",
       "             stddev: 0.009999999776482582\n",
       "           }\n",
       "         }\n",
       "         activation: RELU_6\n",
       "         batch_norm {\n",
       "           decay: 0.996999979019165\n",
       "           scale: true\n",
       "           epsilon: 0.0010000000474974513\n",
       "         }\n",
       "       }\n",
       "       depth: 128\n",
       "       num_layers_before_predictor: 4\n",
       "       kernel_size: 3\n",
       "       class_prediction_bias_init: -4.599999904632568\n",
       "       share_prediction_tower: true\n",
       "       use_depthwise: true\n",
       "     }\n",
       "   }\n",
       "   anchor_generator {\n",
       "     multiscale_anchor_generator {\n",
       "       min_level: 3\n",
       "       max_level: 7\n",
       "       anchor_scale: 4.0\n",
       "       aspect_ratios: 1.0\n",
       "       aspect_ratios: 2.0\n",
       "       aspect_ratios: 0.5\n",
       "       scales_per_octave: 2\n",
       "     }\n",
       "   }\n",
       "   post_processing {\n",
       "     batch_non_max_suppression {\n",
       "       score_threshold: 9.99999993922529e-09\n",
       "       iou_threshold: 0.6000000238418579\n",
       "       max_detections_per_class: 100\n",
       "       max_total_detections: 100\n",
       "       use_static_shapes: false\n",
       "     }\n",
       "     score_converter: SIGMOID\n",
       "   }\n",
       "   normalize_loss_by_num_matches: true\n",
       "   loss {\n",
       "     localization_loss {\n",
       "       weighted_smooth_l1 {\n",
       "       }\n",
       "     }\n",
       "     classification_loss {\n",
       "       weighted_sigmoid_focal {\n",
       "         gamma: 2.0\n",
       "         alpha: 0.25\n",
       "       }\n",
       "     }\n",
       "     classification_weight: 1.0\n",
       "     localization_weight: 1.0\n",
       "   }\n",
       "   encode_background_as_zeros: true\n",
       "   normalize_loc_loss_by_codesize: true\n",
       "   inplace_batchnorm_update: true\n",
       "   freeze_batchnorm: false\n",
       " },\n",
       " 'train_config': batch_size: 128\n",
       " data_augmentation_options {\n",
       "   random_horizontal_flip {\n",
       "   }\n",
       " }\n",
       " data_augmentation_options {\n",
       "   random_crop_image {\n",
       "     min_object_covered: 0.0\n",
       "     min_aspect_ratio: 0.75\n",
       "     max_aspect_ratio: 3.0\n",
       "     min_area: 0.75\n",
       "     max_area: 1.0\n",
       "     overlap_thresh: 0.0\n",
       "   }\n",
       " }\n",
       " sync_replicas: true\n",
       " optimizer {\n",
       "   momentum_optimizer {\n",
       "     learning_rate {\n",
       "       cosine_decay_learning_rate {\n",
       "         learning_rate_base: 0.07999999821186066\n",
       "         total_steps: 50000\n",
       "         warmup_learning_rate: 0.026666000485420227\n",
       "         warmup_steps: 1000\n",
       "       }\n",
       "     }\n",
       "     momentum_optimizer_value: 0.8999999761581421\n",
       "   }\n",
       "   use_moving_average: false\n",
       " }\n",
       " fine_tune_checkpoint: \"PATH_TO_BE_CONFIGURED\"\n",
       " num_steps: 50000\n",
       " startup_delay_steps: 0.0\n",
       " replicas_to_aggregate: 8\n",
       " max_number_of_boxes: 100\n",
       " unpad_groundtruth_tensors: false\n",
       " fine_tune_checkpoint_type: \"classification\",\n",
       " 'train_input_config': label_map_path: \"PATH_TO_BE_CONFIGURED\"\n",
       " tf_record_input_reader {\n",
       "   input_path: \"PATH_TO_BE_CONFIGURED\"\n",
       " },\n",
       " 'eval_config': metrics_set: \"coco_detection_metrics\"\n",
       " use_moving_averages: false,\n",
       " 'eval_input_configs': [label_map_path: \"PATH_TO_BE_CONFIGURED\"\n",
       " shuffle: false\n",
       " num_epochs: 1\n",
       " tf_record_input_reader {\n",
       "   input_path: \"PATH_TO_BE_CONFIGURED\"\n",
       " }\n",
       " ],\n",
       " 'eval_input_config': label_map_path: \"PATH_TO_BE_CONFIGURED\"\n",
       " shuffle: false\n",
       " num_epochs: 1\n",
       " tf_record_input_reader {\n",
       "   input_path: \"PATH_TO_BE_CONFIGURED\"\n",
       " }}"
      ]
     },
     "execution_count": 20,
     "metadata": {},
     "output_type": "execute_result"
    }
   ],
   "source": [
    "config"
   ]
  },
  {
   "cell_type": "code",
   "execution_count": 21,
   "metadata": {},
   "outputs": [],
   "source": [
    "pipeline_config = pipeline_pb2.TrainEvalPipelineConfig()\n",
    "with tf.io.gfile.GFile(CONFIG_PATH, \"r\") as f:                                                                                                                                                                                                                     \n",
    "    proto_str = f.read()                                                                                                                                                                                                                                          \n",
    "    text_format.Merge(proto_str, pipeline_config)  "
   ]
  },
  {
   "cell_type": "code",
   "execution_count": 22,
   "metadata": {},
   "outputs": [],
   "source": [
    "# 여기 클래스 개수\n",
    "pipeline_config.model.ssd.num_classes = 7\n",
    "# GPU 있으면 배치 사이즈 더 높게 하자\n",
    "pipeline_config.train_config.batch_size = 4\n",
    "# 마지막으로 학습된 모델, 모델 바꿀 거면 여기서 바꾸자 (그럼 앞에서랑 호환맞게 하기)\n",
    "pipeline_config.train_config.fine_tune_checkpoint = PRETRAINED_MODEL_PATH+'/ssd_mobilenet_v2_fpnlite_320x320_coco17_tpu-8/checkpoint/ckpt-0'\n",
    "pipeline_config.train_config.fine_tune_checkpoint_type = \"detection\"\n",
    "pipeline_config.train_input_reader.label_map_path= ANNOTATION_PATH + '/label_map.pbtxt'\n",
    "pipeline_config.train_input_reader.tf_record_input_reader.input_path[:] = [ANNOTATION_PATH + '/train.record']\n",
    "pipeline_config.eval_input_reader[0].label_map_path = ANNOTATION_PATH + '/label_map.pbtxt'\n",
    "pipeline_config.eval_input_reader[0].tf_record_input_reader.input_path[:] = [ANNOTATION_PATH + '/test.record']"
   ]
  },
  {
   "cell_type": "code",
   "execution_count": 23,
   "metadata": {},
   "outputs": [
    {
     "data": {
      "text/plain": [
       "model {\n",
       "  ssd {\n",
       "    num_classes: 7\n",
       "    image_resizer {\n",
       "      fixed_shape_resizer {\n",
       "        height: 320\n",
       "        width: 320\n",
       "      }\n",
       "    }\n",
       "    feature_extractor {\n",
       "      type: \"ssd_mobilenet_v2_fpn_keras\"\n",
       "      depth_multiplier: 1.0\n",
       "      min_depth: 16\n",
       "      conv_hyperparams {\n",
       "        regularizer {\n",
       "          l2_regularizer {\n",
       "            weight: 3.9999998989515007e-05\n",
       "          }\n",
       "        }\n",
       "        initializer {\n",
       "          random_normal_initializer {\n",
       "            mean: 0.0\n",
       "            stddev: 0.009999999776482582\n",
       "          }\n",
       "        }\n",
       "        activation: RELU_6\n",
       "        batch_norm {\n",
       "          decay: 0.996999979019165\n",
       "          scale: true\n",
       "          epsilon: 0.0010000000474974513\n",
       "        }\n",
       "      }\n",
       "      use_depthwise: true\n",
       "      override_base_feature_extractor_hyperparams: true\n",
       "      fpn {\n",
       "        min_level: 3\n",
       "        max_level: 7\n",
       "        additional_layer_depth: 128\n",
       "      }\n",
       "    }\n",
       "    box_coder {\n",
       "      faster_rcnn_box_coder {\n",
       "        y_scale: 10.0\n",
       "        x_scale: 10.0\n",
       "        height_scale: 5.0\n",
       "        width_scale: 5.0\n",
       "      }\n",
       "    }\n",
       "    matcher {\n",
       "      argmax_matcher {\n",
       "        matched_threshold: 0.5\n",
       "        unmatched_threshold: 0.5\n",
       "        ignore_thresholds: false\n",
       "        negatives_lower_than_unmatched: true\n",
       "        force_match_for_each_row: true\n",
       "        use_matmul_gather: true\n",
       "      }\n",
       "    }\n",
       "    similarity_calculator {\n",
       "      iou_similarity {\n",
       "      }\n",
       "    }\n",
       "    box_predictor {\n",
       "      weight_shared_convolutional_box_predictor {\n",
       "        conv_hyperparams {\n",
       "          regularizer {\n",
       "            l2_regularizer {\n",
       "              weight: 3.9999998989515007e-05\n",
       "            }\n",
       "          }\n",
       "          initializer {\n",
       "            random_normal_initializer {\n",
       "              mean: 0.0\n",
       "              stddev: 0.009999999776482582\n",
       "            }\n",
       "          }\n",
       "          activation: RELU_6\n",
       "          batch_norm {\n",
       "            decay: 0.996999979019165\n",
       "            scale: true\n",
       "            epsilon: 0.0010000000474974513\n",
       "          }\n",
       "        }\n",
       "        depth: 128\n",
       "        num_layers_before_predictor: 4\n",
       "        kernel_size: 3\n",
       "        class_prediction_bias_init: -4.599999904632568\n",
       "        share_prediction_tower: true\n",
       "        use_depthwise: true\n",
       "      }\n",
       "    }\n",
       "    anchor_generator {\n",
       "      multiscale_anchor_generator {\n",
       "        min_level: 3\n",
       "        max_level: 7\n",
       "        anchor_scale: 4.0\n",
       "        aspect_ratios: 1.0\n",
       "        aspect_ratios: 2.0\n",
       "        aspect_ratios: 0.5\n",
       "        scales_per_octave: 2\n",
       "      }\n",
       "    }\n",
       "    post_processing {\n",
       "      batch_non_max_suppression {\n",
       "        score_threshold: 9.99999993922529e-09\n",
       "        iou_threshold: 0.6000000238418579\n",
       "        max_detections_per_class: 100\n",
       "        max_total_detections: 100\n",
       "        use_static_shapes: false\n",
       "      }\n",
       "      score_converter: SIGMOID\n",
       "    }\n",
       "    normalize_loss_by_num_matches: true\n",
       "    loss {\n",
       "      localization_loss {\n",
       "        weighted_smooth_l1 {\n",
       "        }\n",
       "      }\n",
       "      classification_loss {\n",
       "        weighted_sigmoid_focal {\n",
       "          gamma: 2.0\n",
       "          alpha: 0.25\n",
       "        }\n",
       "      }\n",
       "      classification_weight: 1.0\n",
       "      localization_weight: 1.0\n",
       "    }\n",
       "    encode_background_as_zeros: true\n",
       "    normalize_loc_loss_by_codesize: true\n",
       "    inplace_batchnorm_update: true\n",
       "    freeze_batchnorm: false\n",
       "  }\n",
       "}\n",
       "train_config {\n",
       "  batch_size: 4\n",
       "  data_augmentation_options {\n",
       "    random_horizontal_flip {\n",
       "    }\n",
       "  }\n",
       "  data_augmentation_options {\n",
       "    random_crop_image {\n",
       "      min_object_covered: 0.0\n",
       "      min_aspect_ratio: 0.75\n",
       "      max_aspect_ratio: 3.0\n",
       "      min_area: 0.75\n",
       "      max_area: 1.0\n",
       "      overlap_thresh: 0.0\n",
       "    }\n",
       "  }\n",
       "  sync_replicas: true\n",
       "  optimizer {\n",
       "    momentum_optimizer {\n",
       "      learning_rate {\n",
       "        cosine_decay_learning_rate {\n",
       "          learning_rate_base: 0.07999999821186066\n",
       "          total_steps: 50000\n",
       "          warmup_learning_rate: 0.026666000485420227\n",
       "          warmup_steps: 1000\n",
       "        }\n",
       "      }\n",
       "      momentum_optimizer_value: 0.8999999761581421\n",
       "    }\n",
       "    use_moving_average: false\n",
       "  }\n",
       "  fine_tune_checkpoint: \"Tensorflow/workspace/pre-trained-models/ssd_mobilenet_v2_fpnlite_320x320_coco17_tpu-8/checkpoint/ckpt-0\"\n",
       "  num_steps: 50000\n",
       "  startup_delay_steps: 0.0\n",
       "  replicas_to_aggregate: 8\n",
       "  max_number_of_boxes: 100\n",
       "  unpad_groundtruth_tensors: false\n",
       "  fine_tune_checkpoint_type: \"detection\"\n",
       "}\n",
       "train_input_reader {\n",
       "  label_map_path: \"Tensorflow/workspace/annotations/label_map.pbtxt\"\n",
       "  tf_record_input_reader {\n",
       "    input_path: \"Tensorflow/workspace/annotations/train.record\"\n",
       "  }\n",
       "}\n",
       "eval_config {\n",
       "  metrics_set: \"coco_detection_metrics\"\n",
       "  use_moving_averages: false\n",
       "}\n",
       "eval_input_reader {\n",
       "  label_map_path: \"Tensorflow/workspace/annotations/label_map.pbtxt\"\n",
       "  shuffle: false\n",
       "  num_epochs: 1\n",
       "  tf_record_input_reader {\n",
       "    input_path: \"Tensorflow/workspace/annotations/test.record\"\n",
       "  }\n",
       "}"
      ]
     },
     "execution_count": 23,
     "metadata": {},
     "output_type": "execute_result"
    }
   ],
   "source": [
    "pipeline_config"
   ]
  },
  {
   "cell_type": "code",
   "execution_count": 24,
   "metadata": {},
   "outputs": [],
   "source": [
    "# pipeline.config가 업데이트 되어있는지 보기\n",
    "config_text = text_format.MessageToString(pipeline_config)                                                                                                                                                                                                        \n",
    "with tf.io.gfile.GFile(CONFIG_PATH, \"wb\") as f:                                                                                                                                                                                                                     \n",
    "    f.write(config_text)   "
   ]
  },
  {
   "cell_type": "markdown",
   "metadata": {},
   "source": [
    "loss 랑 accuracy 시각화하기"
   ]
  },
  {
   "cell_type": "code",
   "execution_count": 26,
   "metadata": {},
   "outputs": [
    {
     "name": "stdout",
     "output_type": "stream",
     "text": [
      "Matplotlib version 3.4.2\n"
     ]
    }
   ],
   "source": [
    "import pandas as pd\n",
    "import numpy as np\n",
    "import matplotlib\n",
    "import matplotlib.pyplot as plt\n",
    "\n",
    "print(\"Matplotlib version\", matplotlib.__version__)\n",
    "%matplotlib inline\n",
    "%config InlineBackend.figure_format = 'retina'"
   ]
  },
  {
   "cell_type": "code",
   "execution_count": 27,
   "metadata": {},
   "outputs": [
    {
     "data": {
      "text/html": [
       "\n",
       "      <iframe id=\"tensorboard-frame-1819cf4c2cbfef12\" width=\"100%\" height=\"800\" frameborder=\"0\">\n",
       "      </iframe>\n",
       "      <script>\n",
       "        (function() {\n",
       "          const frame = document.getElementById(\"tensorboard-frame-1819cf4c2cbfef12\");\n",
       "          const url = new URL(\"/\", window.location);\n",
       "          const port = 6006;\n",
       "          if (port) {\n",
       "            url.port = port;\n",
       "          }\n",
       "          frame.src = url;\n",
       "        })();\n",
       "      </script>\n",
       "    "
      ],
      "text/plain": [
       "<IPython.core.display.HTML object>"
      ]
     },
     "metadata": {},
     "output_type": "display_data"
    }
   ],
   "source": [
    "%load_ext tensorboard\n",
    "%tensorboard --logdir 'Tensorflow/workspace/models/my_ssd_mobnet'"
   ]
  },
  {
   "cell_type": "code",
   "execution_count": 29,
   "metadata": {},
   "outputs": [
    {
     "data": {
      "text/html": [
       "\n",
       "      <iframe id=\"tensorboard-frame-8cb75a831aef7e64\" width=\"100%\" height=\"800\" frameborder=\"0\">\n",
       "      </iframe>\n",
       "      <script>\n",
       "        (function() {\n",
       "          const frame = document.getElementById(\"tensorboard-frame-8cb75a831aef7e64\");\n",
       "          const url = new URL(\"/\", window.location);\n",
       "          const port = 6008;\n",
       "          if (port) {\n",
       "            url.port = port;\n",
       "          }\n",
       "          frame.src = url;\n",
       "        })();\n",
       "      </script>\n",
       "    "
      ],
      "text/plain": [
       "<IPython.core.display.HTML object>"
      ]
     },
     "metadata": {},
     "output_type": "display_data"
    }
   ],
   "source": []
  },
  {
   "cell_type": "markdown",
   "metadata": {},
   "source": [
    "# 6. Train the model"
   ]
  },
  {
   "cell_type": "markdown",
   "metadata": {},
   "source": []
  },
  {
   "cell_type": "code",
   "execution_count": 25,
   "metadata": {
    "scrolled": true
   },
   "outputs": [
    {
     "name": "stdout",
     "output_type": "stream",
     "text": [
      "python Tensorflow/models/research/object_detection/model_main_tf2.py --model_dir=Tensorflow/workspace/models/my_ssd_mobnet --pipeline_config_path=Tensorflow/workspace/models/my_ssd_mobnet/pipeline.config --num_train_steps=5000\n"
     ]
    }
   ],
   "source": [
    "print(\"\"\"python {}/research/object_detection/model_main_tf2.py --model_dir={}/{} --pipeline_config_path={}/{}/pipeline.config --num_train_steps=5000\"\"\".format(APIMODEL_PATH, MODEL_PATH,CUSTOM_MODEL_NAME,MODEL_PATH,CUSTOM_MODEL_NAME))"
   ]
  },
  {
   "cell_type": "code",
   "execution_count": 28,
   "metadata": {},
   "outputs": [
    {
     "name": "stdout",
     "output_type": "stream",
     "text": [
      "Traceback (most recent call last):\r\n",
      "  File \"/Users/rayun/Documents/ssd_objectDetect/RealTimeObjectDetection/Tensorflow/models/research/object_detection/model_main_tf2.py\", line 32, in <module>\r\n",
      "    from object_detection import model_lib_v2\r\n",
      "ImportError: cannot import name 'model_lib_v2' from 'object_detection' (/Users/rayun/opt/anaconda3/envs/1007/lib/python3.9/site-packages/object_detection/__init__.py)\r\n"
     ]
    }
   ],
   "source": [
    "!python Tensorflow/models/research/object_detection/model_main_tf2.py --model_dir=Tensorflow/workspace/models/my_ssd_mobnet --pipeline_config_path=Tensorflow/workspace/models/my_ssd_mobnet/pipeline.config --num_train_steps=5000"
   ]
  },
  {
   "cell_type": "code",
   "execution_count": null,
   "metadata": {},
   "outputs": [],
   "source": []
  },
  {
   "cell_type": "markdown",
   "metadata": {},
   "source": [
    "# 7. Load Train Model From Checkpoint"
   ]
  },
  {
   "cell_type": "code",
   "execution_count": 26,
   "metadata": {},
   "outputs": [],
   "source": [
    "#!pip install --upgrade tf_slim\n",
    "import os\n",
    "from object_detection.utils import label_map_util\n",
    "from object_detection.utils import visualization_utils as viz_utils\n",
    "from object_detection.builders import model_builder"
   ]
  },
  {
   "cell_type": "code",
   "execution_count": 27,
   "metadata": {},
   "outputs": [
    {
     "name": "stderr",
     "output_type": "stream",
     "text": [
      "2021-10-04 22:35:53.248312: I tensorflow/core/platform/cpu_feature_guard.cc:142] This TensorFlow binary is optimized with oneAPI Deep Neural Network Library (oneDNN) to use the following CPU instructions in performance-critical operations:  AVX2 FMA\n",
      "To enable them in other operations, rebuild TensorFlow with the appropriate compiler flags.\n"
     ]
    }
   ],
   "source": [
    "# Load pipeline config and build a detection model\n",
    "configs = config_util.get_configs_from_pipeline_file(CONFIG_PATH)\n",
    "detection_model = model_builder.build(model_config=configs['model'], is_training=False)\n",
    "\n",
    "# Restore checkpoint\n",
    "ckpt = tf.compat.v2.train.Checkpoint(model=detection_model)\n",
    "ckpt.restore(os.path.join(CHECKPOINT_PATH, 'ckpt-6')).expect_partial()\n",
    "\n",
    "@tf.function\n",
    "def detect_fn(image):\n",
    "    image, shapes = detection_model.preprocess(image)\n",
    "    prediction_dict = detection_model.predict(image, shapes)\n",
    "    detections = detection_model.postprocess(prediction_dict, shapes)\n",
    "    return detections"
   ]
  },
  {
   "cell_type": "markdown",
   "metadata": {},
   "source": [
    "# 8. Detect in Real-Time"
   ]
  },
  {
   "cell_type": "code",
   "execution_count": 28,
   "metadata": {},
   "outputs": [],
   "source": [
    "import cv2 \n",
    "import numpy as np"
   ]
  },
  {
   "cell_type": "code",
   "execution_count": 29,
   "metadata": {},
   "outputs": [],
   "source": [
    "category_index = label_map_util.create_category_index_from_labelmap(ANNOTATION_PATH+'/label_map.pbtxt')"
   ]
  },
  {
   "cell_type": "code",
   "execution_count": 30,
   "metadata": {},
   "outputs": [
    {
     "data": {
      "text/plain": [
       "{1: {'id': 1, 'name': 'forward'},\n",
       " 2: {'id': 2, 'name': 'backward'},\n",
       " 3: {'id': 3, 'name': 'up'},\n",
       " 4: {'id': 4, 'name': 'down'},\n",
       " 5: {'id': 5, 'name': 'right'},\n",
       " 6: {'id': 6, 'name': 'left'},\n",
       " 7: {'id': 7, 'name': 'stop'}}"
      ]
     },
     "execution_count": 30,
     "metadata": {},
     "output_type": "execute_result"
    }
   ],
   "source": [
    "category_index"
   ]
  },
  {
   "cell_type": "code",
   "execution_count": null,
   "metadata": {},
   "outputs": [],
   "source": [
    "cap.release()"
   ]
  },
  {
   "cell_type": "code",
   "execution_count": 31,
   "metadata": {},
   "outputs": [],
   "source": [
    "cap = cv2.VideoCapture(0) \n",
    "width = int(cap.get(cv2.CAP_PROP_FRAME_WIDTH)) \n",
    "height = int(cap.get(cv2.CAP_PROP_FRAME_HEIGHT))"
   ]
  },
  {
   "cell_type": "markdown",
   "metadata": {},
   "source": [
    "# Setup capture\n",
    "cap = cv2.VideoCapture(0)\n",
    "width = int(cap.get(cv2.CAP_PROP_FRAME_WIDTH))\n",
    "height = int(cap.get(cv2.CAP_PROP_FRAME_HEIGHT))"
   ]
  },
  {
   "cell_type": "code",
   "execution_count": null,
   "metadata": {
    "scrolled": true
   },
   "outputs": [
    {
     "name": "stderr",
     "output_type": "stream",
     "text": [
      "2021-10-04 22:36:22.288977: I tensorflow/compiler/mlir/mlir_graph_optimization_pass.cc:176] None of the MLIR Optimization Passes are enabled (registered 2)\n"
     ]
    }
   ],
   "source": [
    "while True: \n",
    "    ret, frame = cap.read()\n",
    "    image_np = np.array(frame)\n",
    "    \n",
    "    input_tensor = tf.convert_to_tensor(np.expand_dims(image_np, 0), dtype=tf.float32)\n",
    "    detections = detect_fn(input_tensor)\n",
    "    \n",
    "    num_detections = int(detections.pop('num_detections'))\n",
    "    detections = {key: value[0, :num_detections].numpy()\n",
    "                  for key, value in detections.items()}\n",
    "    detections['num_detections'] = num_detections\n",
    "\n",
    "    # detection_classes should be ints.\n",
    "    detections['detection_classes'] = detections['detection_classes'].astype(np.int64)\n",
    "\n",
    "    label_id_offset = 1\n",
    "    image_np_with_detections = image_np.copy()\n",
    "\n",
    "    viz_utils.visualize_boxes_and_labels_on_image_array(\n",
    "                image_np_with_detections,\n",
    "                detections['detection_boxes'],\n",
    "                detections['detection_classes']+label_id_offset,\n",
    "                detections['detection_scores'],\n",
    "                category_index,\n",
    "                use_normalized_coordinates=True,\n",
    "                max_boxes_to_draw=1,\n",
    "                min_score_thresh=0.3,\n",
    "                agnostic_mode=False)\n",
    "\n",
    "    cv2.imshow('object detection',  cv2.resize(image_np_with_detections, (800, 600)))\n",
    "\n",
    "\n",
    "    if cv2.waitKey(1) & 0xFF == ord('q'):\n",
    "        cap.release()\n",
    "        break\n",
    "        "
   ]
  },
  {
   "cell_type": "code",
   "execution_count": null,
   "metadata": {},
   "outputs": [],
   "source": [
    "import numpy as np\n",
    "from PIL import Image\n",
    "from PIL import ImageColor\n",
    "from PIL import ImageDraw\n",
    "from PIL import ImageFont\n",
    "from PIL import ImageOps\n",
    "\n",
    "print(\"사용가능한 GPU : %s\" % tf.test.gpu_device_name())"
   ]
  },
  {
   "cell_type": "markdown",
   "metadata": {},
   "source": [
    "# detections = detect_fn(input_tensor)"
   ]
  },
  {
   "cell_type": "code",
   "execution_count": null,
   "metadata": {},
   "outputs": [],
   "source": [
    "from matplotlib import pyplot as plt"
   ]
  },
  {
   "cell_type": "code",
   "execution_count": 3,
   "metadata": {},
   "outputs": [],
   "source": [
    "import tensorflow as tf\n",
    "import json\n",
    "import sys\n",
    "import pprint\n",
    "from tensorflow import keras\n",
    "\n",
    "import numpy as np"
   ]
  },
  {
   "cell_type": "code",
   "execution_count": 2,
   "metadata": {},
   "outputs": [
    {
     "ename": "OSError",
     "evalue": "SavedModel file does not exist at: saved_model/my_model/{saved_model.pbtxt|saved_model.pb}",
     "output_type": "error",
     "traceback": [
      "\u001b[0;31m---------------------------------------------------------------------------\u001b[0m",
      "\u001b[0;31mOSError\u001b[0m                                   Traceback (most recent call last)",
      "\u001b[0;32m/var/folders/c6/gbcjtnc91n76fcywyw4m72s40000gn/T/ipykernel_97847/2425299122.py\u001b[0m in \u001b[0;36m<module>\u001b[0;34m\u001b[0m\n\u001b[0;32m----> 1\u001b[0;31m \u001b[0mconverter\u001b[0m \u001b[0;34m=\u001b[0m \u001b[0mtf\u001b[0m\u001b[0;34m.\u001b[0m\u001b[0mlite\u001b[0m\u001b[0;34m.\u001b[0m\u001b[0mTFLiteConverter\u001b[0m\u001b[0;34m.\u001b[0m\u001b[0mfrom_saved_model\u001b[0m\u001b[0;34m(\u001b[0m\u001b[0;34m'saved_model/my_model'\u001b[0m\u001b[0;34m)\u001b[0m\u001b[0;34m\u001b[0m\u001b[0;34m\u001b[0m\u001b[0m\n\u001b[0m",
      "\u001b[0;32m~/opt/anaconda3/envs/0922/lib/python3.9/site-packages/tensorflow/lite/python/lite.py\u001b[0m in \u001b[0;36mfrom_saved_model\u001b[0;34m(cls, saved_model_dir, signature_keys, tags)\u001b[0m\n\u001b[1;32m   1346\u001b[0m \u001b[0;34m\u001b[0m\u001b[0m\n\u001b[1;32m   1347\u001b[0m     \u001b[0;32mwith\u001b[0m \u001b[0mcontext\u001b[0m\u001b[0;34m.\u001b[0m\u001b[0meager_mode\u001b[0m\u001b[0;34m(\u001b[0m\u001b[0;34m)\u001b[0m\u001b[0;34m:\u001b[0m\u001b[0;34m\u001b[0m\u001b[0;34m\u001b[0m\u001b[0m\n\u001b[0;32m-> 1348\u001b[0;31m       \u001b[0msaved_model\u001b[0m \u001b[0;34m=\u001b[0m \u001b[0m_load\u001b[0m\u001b[0;34m(\u001b[0m\u001b[0msaved_model_dir\u001b[0m\u001b[0;34m,\u001b[0m \u001b[0mtags\u001b[0m\u001b[0;34m)\u001b[0m\u001b[0;34m\u001b[0m\u001b[0;34m\u001b[0m\u001b[0m\n\u001b[0m\u001b[1;32m   1349\u001b[0m     \u001b[0;32mif\u001b[0m \u001b[0;32mnot\u001b[0m \u001b[0msignature_keys\u001b[0m\u001b[0;34m:\u001b[0m\u001b[0;34m\u001b[0m\u001b[0;34m\u001b[0m\u001b[0m\n\u001b[1;32m   1350\u001b[0m       \u001b[0msignature_keys\u001b[0m \u001b[0;34m=\u001b[0m \u001b[0msaved_model\u001b[0m\u001b[0;34m.\u001b[0m\u001b[0msignatures\u001b[0m\u001b[0;34m\u001b[0m\u001b[0;34m\u001b[0m\u001b[0m\n",
      "\u001b[0;32m~/opt/anaconda3/envs/0922/lib/python3.9/site-packages/tensorflow/python/saved_model/load.py\u001b[0m in \u001b[0;36mload\u001b[0;34m(export_dir, tags, options)\u001b[0m\n\u001b[1;32m    862\u001b[0m   \"\"\"\n\u001b[1;32m    863\u001b[0m   \u001b[0mmetrics\u001b[0m\u001b[0;34m.\u001b[0m\u001b[0mIncrementReadApi\u001b[0m\u001b[0;34m(\u001b[0m\u001b[0m_LOAD_V2_LABEL\u001b[0m\u001b[0;34m)\u001b[0m\u001b[0;34m\u001b[0m\u001b[0;34m\u001b[0m\u001b[0m\n\u001b[0;32m--> 864\u001b[0;31m   \u001b[0mresult\u001b[0m \u001b[0;34m=\u001b[0m \u001b[0mload_internal\u001b[0m\u001b[0;34m(\u001b[0m\u001b[0mexport_dir\u001b[0m\u001b[0;34m,\u001b[0m \u001b[0mtags\u001b[0m\u001b[0;34m,\u001b[0m \u001b[0moptions\u001b[0m\u001b[0;34m)\u001b[0m\u001b[0;34m[\u001b[0m\u001b[0;34m\"root\"\u001b[0m\u001b[0;34m]\u001b[0m\u001b[0;34m\u001b[0m\u001b[0;34m\u001b[0m\u001b[0m\n\u001b[0m\u001b[1;32m    865\u001b[0m   \u001b[0mmetrics\u001b[0m\u001b[0;34m.\u001b[0m\u001b[0mIncrementRead\u001b[0m\u001b[0;34m(\u001b[0m\u001b[0;34m)\u001b[0m\u001b[0;34m\u001b[0m\u001b[0;34m\u001b[0m\u001b[0m\n\u001b[1;32m    866\u001b[0m   \u001b[0;32mreturn\u001b[0m \u001b[0mresult\u001b[0m\u001b[0;34m\u001b[0m\u001b[0;34m\u001b[0m\u001b[0m\n",
      "\u001b[0;32m~/opt/anaconda3/envs/0922/lib/python3.9/site-packages/tensorflow/python/saved_model/load.py\u001b[0m in \u001b[0;36mload_internal\u001b[0;34m(export_dir, tags, options, loader_cls, filters)\u001b[0m\n\u001b[1;32m    876\u001b[0m     \u001b[0mtags\u001b[0m \u001b[0;34m=\u001b[0m \u001b[0mnest\u001b[0m\u001b[0;34m.\u001b[0m\u001b[0mflatten\u001b[0m\u001b[0;34m(\u001b[0m\u001b[0mtags\u001b[0m\u001b[0;34m)\u001b[0m\u001b[0;34m\u001b[0m\u001b[0;34m\u001b[0m\u001b[0m\n\u001b[1;32m    877\u001b[0m   saved_model_proto, debug_info = (\n\u001b[0;32m--> 878\u001b[0;31m       loader_impl.parse_saved_model_with_debug_info(export_dir))\n\u001b[0m\u001b[1;32m    879\u001b[0m \u001b[0;34m\u001b[0m\u001b[0m\n\u001b[1;32m    880\u001b[0m   if (len(saved_model_proto.meta_graphs) == 1 and\n",
      "\u001b[0;32m~/opt/anaconda3/envs/0922/lib/python3.9/site-packages/tensorflow/python/saved_model/loader_impl.py\u001b[0m in \u001b[0;36mparse_saved_model_with_debug_info\u001b[0;34m(export_dir)\u001b[0m\n\u001b[1;32m     58\u001b[0m     \u001b[0mparsed\u001b[0m\u001b[0;34m.\u001b[0m \u001b[0mMissing\u001b[0m \u001b[0mgraph\u001b[0m \u001b[0mdebug\u001b[0m \u001b[0minfo\u001b[0m \u001b[0mfile\u001b[0m \u001b[0;32mis\u001b[0m \u001b[0mfine\u001b[0m\u001b[0;34m.\u001b[0m\u001b[0;34m\u001b[0m\u001b[0;34m\u001b[0m\u001b[0m\n\u001b[1;32m     59\u001b[0m   \"\"\"\n\u001b[0;32m---> 60\u001b[0;31m   \u001b[0msaved_model\u001b[0m \u001b[0;34m=\u001b[0m \u001b[0m_parse_saved_model\u001b[0m\u001b[0;34m(\u001b[0m\u001b[0mexport_dir\u001b[0m\u001b[0;34m)\u001b[0m\u001b[0;34m\u001b[0m\u001b[0;34m\u001b[0m\u001b[0m\n\u001b[0m\u001b[1;32m     61\u001b[0m \u001b[0;34m\u001b[0m\u001b[0m\n\u001b[1;32m     62\u001b[0m   debug_info_path = os.path.join(\n",
      "\u001b[0;32m~/opt/anaconda3/envs/0922/lib/python3.9/site-packages/tensorflow/python/saved_model/loader_impl.py\u001b[0m in \u001b[0;36mparse_saved_model\u001b[0;34m(export_dir)\u001b[0m\n\u001b[1;32m    116\u001b[0m       \u001b[0;32mraise\u001b[0m \u001b[0mIOError\u001b[0m\u001b[0;34m(\u001b[0m\u001b[0;34m\"Cannot parse file %s: %s.\"\u001b[0m \u001b[0;34m%\u001b[0m \u001b[0;34m(\u001b[0m\u001b[0mpath_to_pbtxt\u001b[0m\u001b[0;34m,\u001b[0m \u001b[0mstr\u001b[0m\u001b[0;34m(\u001b[0m\u001b[0me\u001b[0m\u001b[0;34m)\u001b[0m\u001b[0;34m)\u001b[0m\u001b[0;34m)\u001b[0m\u001b[0;34m\u001b[0m\u001b[0;34m\u001b[0m\u001b[0m\n\u001b[1;32m    117\u001b[0m   \u001b[0;32melse\u001b[0m\u001b[0;34m:\u001b[0m\u001b[0;34m\u001b[0m\u001b[0;34m\u001b[0m\u001b[0m\n\u001b[0;32m--> 118\u001b[0;31m     raise IOError(\n\u001b[0m\u001b[1;32m    119\u001b[0m         \u001b[0;34m\"SavedModel file does not exist at: %s%s{%s|%s}\"\u001b[0m \u001b[0;34m%\u001b[0m\u001b[0;34m\u001b[0m\u001b[0;34m\u001b[0m\u001b[0m\n\u001b[1;32m    120\u001b[0m         (export_dir, os.path.sep, constants.SAVED_MODEL_FILENAME_PBTXT,\n",
      "\u001b[0;31mOSError\u001b[0m: SavedModel file does not exist at: saved_model/my_model/{saved_model.pbtxt|saved_model.pb}"
     ]
    }
   ],
   "source": [
    "converter = tf.lite.TFLiteConverter.from_saved_model('/Tensorflow/workspace/models/my_ssd_mobnet', )"
   ]
  },
  {
   "cell_type": "code",
   "execution_count": 5,
   "metadata": {},
   "outputs": [
    {
     "name": "stderr",
     "output_type": "stream",
     "text": [
      "2021-09-29 13:13:39.166652: I tensorflow/core/platform/cpu_feature_guard.cc:142] This TensorFlow binary is optimized with oneAPI Deep Neural Network Library (oneDNN) to use the following CPU instructions in performance-critical operations:  AVX2 FMA\n",
      "To enable them in other operations, rebuild TensorFlow with the appropriate compiler flags.\n"
     ]
    }
   ],
   "source": [
    "class CustomModule(tf.Module):\n",
    "    def __init__(self):\n",
    "        super(CustomModule, self).__init__()\n",
    "        self.v = tf.Variable(1.)\n",
    "    @tf.function\n",
    "    def __call__(self, x):\n",
    "        return x * self.v\n",
    "    \n",
    "    @tf.function(input_signature=[tf.TensorSpec([], tf.float32)])\n",
    "    def mutate(self, new_v):\n",
    "        self.v.assign(new_v)\n",
    "\n",
    "module = CustomModule()"
   ]
  },
  {
   "cell_type": "code",
   "execution_count": 8,
   "metadata": {},
   "outputs": [
    {
     "ename": "OSError",
     "evalue": "SavedModel file does not exist at: Tensorflow/workspace/pre-trained-model/ssd_mobilenet_v2_fpnlite_320x320_coco17_tpu-8/saved_model/{saved_model.pbtxt|saved_model.pb}",
     "output_type": "error",
     "traceback": [
      "\u001b[0;31m---------------------------------------------------------------------------\u001b[0m",
      "\u001b[0;31mOSError\u001b[0m                                   Traceback (most recent call last)",
      "\u001b[0;32m/var/folders/c6/gbcjtnc91n76fcywyw4m72s40000gn/T/ipykernel_11214/1119008375.py\u001b[0m in \u001b[0;36m<module>\u001b[0;34m\u001b[0m\n\u001b[1;32m      3\u001b[0m \u001b[0;34m\u001b[0m\u001b[0m\n\u001b[1;32m      4\u001b[0m \u001b[0mSAVED_MODEL_PATH\u001b[0m \u001b[0;34m=\u001b[0m \u001b[0;34m'Tensorflow/workspace/pre-trained-model/ssd_mobilenet_v2_fpnlite_320x320_coco17_tpu-8/saved_model'\u001b[0m\u001b[0;34m\u001b[0m\u001b[0;34m\u001b[0m\u001b[0m\n\u001b[0;32m----> 5\u001b[0;31m \u001b[0mconverter\u001b[0m \u001b[0;34m=\u001b[0m \u001b[0mtf\u001b[0m\u001b[0;34m.\u001b[0m\u001b[0mlite\u001b[0m\u001b[0;34m.\u001b[0m\u001b[0mTFLiteConverter\u001b[0m\u001b[0;34m.\u001b[0m\u001b[0mfrom_saved_model\u001b[0m\u001b[0;34m(\u001b[0m\u001b[0mSAVED_MODEL_PATH\u001b[0m\u001b[0;34m)\u001b[0m\u001b[0;34m\u001b[0m\u001b[0;34m\u001b[0m\u001b[0m\n\u001b[0m\u001b[1;32m      6\u001b[0m \u001b[0mtflite_model\u001b[0m \u001b[0;34m=\u001b[0m \u001b[0mconverter\u001b[0m\u001b[0;34m.\u001b[0m\u001b[0mconvert\u001b[0m\u001b[0;34m(\u001b[0m\u001b[0;34m)\u001b[0m\u001b[0;34m\u001b[0m\u001b[0;34m\u001b[0m\u001b[0m\n\u001b[1;32m      7\u001b[0m \u001b[0;34m\u001b[0m\u001b[0m\n",
      "\u001b[0;32m~/opt/anaconda3/envs/0922/lib/python3.9/site-packages/tensorflow/lite/python/lite.py\u001b[0m in \u001b[0;36mfrom_saved_model\u001b[0;34m(cls, saved_model_dir, signature_keys, tags)\u001b[0m\n\u001b[1;32m   1346\u001b[0m \u001b[0;34m\u001b[0m\u001b[0m\n\u001b[1;32m   1347\u001b[0m     \u001b[0;32mwith\u001b[0m \u001b[0mcontext\u001b[0m\u001b[0;34m.\u001b[0m\u001b[0meager_mode\u001b[0m\u001b[0;34m(\u001b[0m\u001b[0;34m)\u001b[0m\u001b[0;34m:\u001b[0m\u001b[0;34m\u001b[0m\u001b[0;34m\u001b[0m\u001b[0m\n\u001b[0;32m-> 1348\u001b[0;31m       \u001b[0msaved_model\u001b[0m \u001b[0;34m=\u001b[0m \u001b[0m_load\u001b[0m\u001b[0;34m(\u001b[0m\u001b[0msaved_model_dir\u001b[0m\u001b[0;34m,\u001b[0m \u001b[0mtags\u001b[0m\u001b[0;34m)\u001b[0m\u001b[0;34m\u001b[0m\u001b[0;34m\u001b[0m\u001b[0m\n\u001b[0m\u001b[1;32m   1349\u001b[0m     \u001b[0;32mif\u001b[0m \u001b[0;32mnot\u001b[0m \u001b[0msignature_keys\u001b[0m\u001b[0;34m:\u001b[0m\u001b[0;34m\u001b[0m\u001b[0;34m\u001b[0m\u001b[0m\n\u001b[1;32m   1350\u001b[0m       \u001b[0msignature_keys\u001b[0m \u001b[0;34m=\u001b[0m \u001b[0msaved_model\u001b[0m\u001b[0;34m.\u001b[0m\u001b[0msignatures\u001b[0m\u001b[0;34m\u001b[0m\u001b[0;34m\u001b[0m\u001b[0m\n",
      "\u001b[0;32m~/opt/anaconda3/envs/0922/lib/python3.9/site-packages/tensorflow/python/saved_model/load.py\u001b[0m in \u001b[0;36mload\u001b[0;34m(export_dir, tags, options)\u001b[0m\n\u001b[1;32m    862\u001b[0m   \"\"\"\n\u001b[1;32m    863\u001b[0m   \u001b[0mmetrics\u001b[0m\u001b[0;34m.\u001b[0m\u001b[0mIncrementReadApi\u001b[0m\u001b[0;34m(\u001b[0m\u001b[0m_LOAD_V2_LABEL\u001b[0m\u001b[0;34m)\u001b[0m\u001b[0;34m\u001b[0m\u001b[0;34m\u001b[0m\u001b[0m\n\u001b[0;32m--> 864\u001b[0;31m   \u001b[0mresult\u001b[0m \u001b[0;34m=\u001b[0m \u001b[0mload_internal\u001b[0m\u001b[0;34m(\u001b[0m\u001b[0mexport_dir\u001b[0m\u001b[0;34m,\u001b[0m \u001b[0mtags\u001b[0m\u001b[0;34m,\u001b[0m \u001b[0moptions\u001b[0m\u001b[0;34m)\u001b[0m\u001b[0;34m[\u001b[0m\u001b[0;34m\"root\"\u001b[0m\u001b[0;34m]\u001b[0m\u001b[0;34m\u001b[0m\u001b[0;34m\u001b[0m\u001b[0m\n\u001b[0m\u001b[1;32m    865\u001b[0m   \u001b[0mmetrics\u001b[0m\u001b[0;34m.\u001b[0m\u001b[0mIncrementRead\u001b[0m\u001b[0;34m(\u001b[0m\u001b[0;34m)\u001b[0m\u001b[0;34m\u001b[0m\u001b[0;34m\u001b[0m\u001b[0m\n\u001b[1;32m    866\u001b[0m   \u001b[0;32mreturn\u001b[0m \u001b[0mresult\u001b[0m\u001b[0;34m\u001b[0m\u001b[0;34m\u001b[0m\u001b[0m\n",
      "\u001b[0;32m~/opt/anaconda3/envs/0922/lib/python3.9/site-packages/tensorflow/python/saved_model/load.py\u001b[0m in \u001b[0;36mload_internal\u001b[0;34m(export_dir, tags, options, loader_cls, filters)\u001b[0m\n\u001b[1;32m    876\u001b[0m     \u001b[0mtags\u001b[0m \u001b[0;34m=\u001b[0m \u001b[0mnest\u001b[0m\u001b[0;34m.\u001b[0m\u001b[0mflatten\u001b[0m\u001b[0;34m(\u001b[0m\u001b[0mtags\u001b[0m\u001b[0;34m)\u001b[0m\u001b[0;34m\u001b[0m\u001b[0;34m\u001b[0m\u001b[0m\n\u001b[1;32m    877\u001b[0m   saved_model_proto, debug_info = (\n\u001b[0;32m--> 878\u001b[0;31m       loader_impl.parse_saved_model_with_debug_info(export_dir))\n\u001b[0m\u001b[1;32m    879\u001b[0m \u001b[0;34m\u001b[0m\u001b[0m\n\u001b[1;32m    880\u001b[0m   if (len(saved_model_proto.meta_graphs) == 1 and\n",
      "\u001b[0;32m~/opt/anaconda3/envs/0922/lib/python3.9/site-packages/tensorflow/python/saved_model/loader_impl.py\u001b[0m in \u001b[0;36mparse_saved_model_with_debug_info\u001b[0;34m(export_dir)\u001b[0m\n\u001b[1;32m     58\u001b[0m     \u001b[0mparsed\u001b[0m\u001b[0;34m.\u001b[0m \u001b[0mMissing\u001b[0m \u001b[0mgraph\u001b[0m \u001b[0mdebug\u001b[0m \u001b[0minfo\u001b[0m \u001b[0mfile\u001b[0m \u001b[0;32mis\u001b[0m \u001b[0mfine\u001b[0m\u001b[0;34m.\u001b[0m\u001b[0;34m\u001b[0m\u001b[0;34m\u001b[0m\u001b[0m\n\u001b[1;32m     59\u001b[0m   \"\"\"\n\u001b[0;32m---> 60\u001b[0;31m   \u001b[0msaved_model\u001b[0m \u001b[0;34m=\u001b[0m \u001b[0m_parse_saved_model\u001b[0m\u001b[0;34m(\u001b[0m\u001b[0mexport_dir\u001b[0m\u001b[0;34m)\u001b[0m\u001b[0;34m\u001b[0m\u001b[0;34m\u001b[0m\u001b[0m\n\u001b[0m\u001b[1;32m     61\u001b[0m \u001b[0;34m\u001b[0m\u001b[0m\n\u001b[1;32m     62\u001b[0m   debug_info_path = os.path.join(\n",
      "\u001b[0;32m~/opt/anaconda3/envs/0922/lib/python3.9/site-packages/tensorflow/python/saved_model/loader_impl.py\u001b[0m in \u001b[0;36mparse_saved_model\u001b[0;34m(export_dir)\u001b[0m\n\u001b[1;32m    116\u001b[0m       \u001b[0;32mraise\u001b[0m \u001b[0mIOError\u001b[0m\u001b[0;34m(\u001b[0m\u001b[0;34m\"Cannot parse file %s: %s.\"\u001b[0m \u001b[0;34m%\u001b[0m \u001b[0;34m(\u001b[0m\u001b[0mpath_to_pbtxt\u001b[0m\u001b[0;34m,\u001b[0m \u001b[0mstr\u001b[0m\u001b[0;34m(\u001b[0m\u001b[0me\u001b[0m\u001b[0;34m)\u001b[0m\u001b[0;34m)\u001b[0m\u001b[0;34m)\u001b[0m\u001b[0;34m\u001b[0m\u001b[0;34m\u001b[0m\u001b[0m\n\u001b[1;32m    117\u001b[0m   \u001b[0;32melse\u001b[0m\u001b[0;34m:\u001b[0m\u001b[0;34m\u001b[0m\u001b[0;34m\u001b[0m\u001b[0m\n\u001b[0;32m--> 118\u001b[0;31m     raise IOError(\n\u001b[0m\u001b[1;32m    119\u001b[0m         \u001b[0;34m\"SavedModel file does not exist at: %s%s{%s|%s}\"\u001b[0m \u001b[0;34m%\u001b[0m\u001b[0;34m\u001b[0m\u001b[0;34m\u001b[0m\u001b[0m\n\u001b[1;32m    120\u001b[0m         (export_dir, os.path.sep, constants.SAVED_MODEL_FILENAME_PBTXT,\n",
      "\u001b[0;31mOSError\u001b[0m: SavedModel file does not exist at: Tensorflow/workspace/pre-trained-model/ssd_mobilenet_v2_fpnlite_320x320_coco17_tpu-8/saved_model/{saved_model.pbtxt|saved_model.pb}"
     ]
    }
   ],
   "source": [
    "#module(tf.constant(0.))\n",
    "#tf.saved_model.save(module, \"/tmp/module_no_signatures\")\n",
    "\n",
    "SAVED_MODEL_PATH = 'Tensorflow/workspace/pre-trained-model/ssd_mobilenet_v2_fpnlite_320x320_coco17_tpu-8/saved_model'\n",
    "converter = tf.lite.TFLiteConverter.from_saved_model(SAVED_MODEL_PATH)\n",
    "tflite_model = converter.convert()\n",
    "\n",
    "with open('model.tflite', 'wb') as f:\n",
    "    f.write(tflite_model)\n",
    "\n"
   ]
  },
  {
   "cell_type": "code",
   "execution_count": 1,
   "metadata": {},
   "outputs": [],
   "source": [
    "#install tfLite Library\n",
    "!pip install -q tflite_support"
   ]
  },
  {
   "cell_type": "code",
   "execution_count": 2,
   "metadata": {},
   "outputs": [],
   "source": [
    "import os\n",
    "import pathlib\n",
    "\n",
    "# Clone the tensorflow models repository if it doesn't already exist\n",
    "# if \"models\" in pathlib.Path.cwd().parts:\n",
    "#     while \"models\" in pathlib.Path.cwd().parts:\n",
    "#     os.chdir('..')\n",
    "# elif not pathlib.Path('models').exists():\n",
    "#     !git clone --depth 1 https://github.com/tensorflow/models"
   ]
  },
  {
   "cell_type": "code",
   "execution_count": null,
   "metadata": {},
   "outputs": [],
   "source": [
    "# %%bash\n",
    "# cd models/research/\n",
    "# protoc object_detection/protos/*.proto --python_out=.\n",
    "# cp object_detection/packages/tf2/setup.py .\n",
    "# pip install -q ."
   ]
  },
  {
   "cell_type": "markdown",
   "metadata": {},
   "source": [
    "구글 공식 사이트를 통해 변환하기 \n",
    "Use the TensorFlow Lite Converter to convert the SavedModel to TFLite. Note that you need to use from_saved_model for TFLite conversion with the Python API.\n",
    "\n",
    "You can also leverage Post-training Quantization to optimize performance and obtain a smaller model. In this tutorial, we use the dynamic range quantization."
   ]
  },
  {
   "cell_type": "code",
   "execution_count": 8,
   "metadata": {},
   "outputs": [
    {
     "name": "stderr",
     "output_type": "stream",
     "text": [
      "2021-09-30 23:35:35.739518: I tensorflow/core/platform/cpu_feature_guard.cc:142] This TensorFlow binary is optimized with oneAPI Deep Neural Network Library (oneDNN) to use the following CPU instructions in performance-critical operations:  AVX2 FMA\n",
      "To enable them in other operations, rebuild TensorFlow with the appropriate compiler flags.\n",
      "2021-09-30 23:35:49.656671: W tensorflow/compiler/mlir/lite/python/tf_tfl_flatbuffer_helpers.cc:351] Ignored output_format.\n",
      "2021-09-30 23:35:49.656984: W tensorflow/compiler/mlir/lite/python/tf_tfl_flatbuffer_helpers.cc:354] Ignored drop_control_dependency.\n",
      "2021-09-30 23:35:49.656990: W tensorflow/compiler/mlir/lite/python/tf_tfl_flatbuffer_helpers.cc:360] Ignored change_concat_input_ranges.\n",
      "2021-09-30 23:35:49.661830: I tensorflow/cc/saved_model/reader.cc:38] Reading SavedModel from: Tensorflow/workspace/pre-trained-models/ssd_mobilenet_v2_fpnlite_320x320_coco17_tpu-8/saved_model\n",
      "2021-09-30 23:35:49.758562: I tensorflow/cc/saved_model/reader.cc:90] Reading meta graph with tags { serve }\n",
      "2021-09-30 23:35:49.758587: I tensorflow/cc/saved_model/reader.cc:132] Reading SavedModel debug info (if present) from: Tensorflow/workspace/pre-trained-models/ssd_mobilenet_v2_fpnlite_320x320_coco17_tpu-8/saved_model\n",
      "2021-09-30 23:35:50.208287: I tensorflow/cc/saved_model/loader.cc:211] Restoring SavedModel bundle.\n",
      "2021-09-30 23:35:51.358699: I tensorflow/cc/saved_model/loader.cc:195] Running initialization op on SavedModel bundle at path: Tensorflow/workspace/pre-trained-models/ssd_mobilenet_v2_fpnlite_320x320_coco17_tpu-8/saved_model\n",
      "2021-09-30 23:35:51.887469: I tensorflow/cc/saved_model/loader.cc:283] SavedModel load for tags { serve }; Status: success: OK. Took 2225822 microseconds.\n",
      "2021-09-30 23:35:53.522080: I tensorflow/compiler/mlir/tensorflow/utils/dump_mlir_util.cc:210] disabling MLIR crash reproducer, set env var `MLIR_CRASH_REPRODUCER_DIRECTORY` to enable.\n",
      "2021-09-30 23:35:55.080976: I tensorflow/lite/tools/optimize/quantize_weights.cc:225] Skipping quantization of tensor ssd_mobile_net_v2fpn_keras_feature_extractor/functional_1/Conv1/Conv2D because it has fewer than 1024 elements (864).\n",
      "2021-09-30 23:35:55.080994: I tensorflow/lite/tools/optimize/quantize_weights.cc:225] Skipping quantization of tensor ssd_mobile_net_v2fpn_keras_feature_extractor/functional_1/expanded_conv_depthwise_BN/FusedBatchNormV3;ssd_mobile_net_v2fpn_keras_feature_extractor/functional_1/expanded_conv_depthwise/depthwise;ssd_mobile_net_v2fpn_keras_feature_extractor/functional_1/block_5_project/Conv2D because it has fewer than 1024 elements (288).\n",
      "2021-09-30 23:35:55.081003: I tensorflow/lite/tools/optimize/quantize_weights.cc:225] Skipping quantization of tensor ssd_mobile_net_v2fpn_keras_feature_extractor/functional_1/expanded_conv_project/Conv2D because it has fewer than 1024 elements (512).\n",
      "2021-09-30 23:35:55.081017: I tensorflow/lite/tools/optimize/quantize_weights.cc:225] Skipping quantization of tensor ssd_mobile_net_v2fpn_keras_feature_extractor/functional_1/block_1_depthwise_BN/FusedBatchNormV3;ssd_mobile_net_v2fpn_keras_feature_extractor/functional_1/block_1_depthwise/depthwise;ssd_mobile_net_v2fpn_keras_feature_extractor/functional_1/block_12_project/Conv2D because it has fewer than 1024 elements (864).\n",
      "2021-09-30 23:35:55.081076: I tensorflow/lite/tools/optimize/quantize_weights.cc:234] Skipping quantization of tensor Postprocessor/BatchMultiClassNonMaxSuppression/unstack_5 because it has no allocated buffer.\n",
      "2021-09-30 23:35:55.081082: I tensorflow/lite/tools/optimize/quantize_weights.cc:234] Skipping quantization of tensor Postprocessor/BatchMultiClassNonMaxSuppression/MultiClassNonMaxSuppression/unstack because it has no allocated buffer.\n",
      "2021-09-30 23:35:55.081087: I tensorflow/lite/tools/optimize/quantize_weights.cc:234] Skipping quantization of tensor Postprocessor/BatchMultiClassNonMaxSuppression/unstack_5 because it has no allocated buffer.\n",
      "2021-09-30 23:35:55.081092: I tensorflow/lite/tools/optimize/quantize_weights.cc:234] Skipping quantization of tensor Postprocessor/BatchMultiClassNonMaxSuppression/MultiClassNonMaxSuppression/unstack because it has no allocated buffer.\n",
      "2021-09-30 23:35:55.081097: I tensorflow/lite/tools/optimize/quantize_weights.cc:234] Skipping quantization of tensor Postprocessor/BatchMultiClassNonMaxSuppression/unstack_5 because it has no allocated buffer.\n",
      "2021-09-30 23:35:55.081101: I tensorflow/lite/tools/optimize/quantize_weights.cc:234] Skipping quantization of tensor Postprocessor/BatchMultiClassNonMaxSuppression/MultiClassNonMaxSuppression/unstack because it has no allocated buffer.\n",
      "2021-09-30 23:35:55.081107: I tensorflow/lite/tools/optimize/quantize_weights.cc:234] Skipping quantization of tensor Postprocessor/BatchMultiClassNonMaxSuppression/unstack_5 because it has no allocated buffer.\n",
      "2021-09-30 23:35:55.081111: I tensorflow/lite/tools/optimize/quantize_weights.cc:234] Skipping quantization of tensor Postprocessor/BatchMultiClassNonMaxSuppression/MultiClassNonMaxSuppression/unstack because it has no allocated buffer.\n",
      "2021-09-30 23:35:55.081116: I tensorflow/lite/tools/optimize/quantize_weights.cc:234] Skipping quantization of tensor Postprocessor/BatchMultiClassNonMaxSuppression/unstack_5 because it has no allocated buffer.\n",
      "2021-09-30 23:35:55.081120: I tensorflow/lite/tools/optimize/quantize_weights.cc:234] Skipping quantization of tensor Postprocessor/BatchMultiClassNonMaxSuppression/MultiClassNonMaxSuppression/unstack because it has no allocated buffer.\n",
      "2021-09-30 23:35:55.081125: I tensorflow/lite/tools/optimize/quantize_weights.cc:234] Skipping quantization of tensor Postprocessor/BatchMultiClassNonMaxSuppression/unstack_5 because it has no allocated buffer.\n",
      "2021-09-30 23:35:55.081129: I tensorflow/lite/tools/optimize/quantize_weights.cc:234] Skipping quantization of tensor Postprocessor/BatchMultiClassNonMaxSuppression/MultiClassNonMaxSuppression/unstack because it has no allocated buffer.\n",
      "2021-09-30 23:35:55.081134: I tensorflow/lite/tools/optimize/quantize_weights.cc:234] Skipping quantization of tensor Postprocessor/BatchMultiClassNonMaxSuppression/unstack_5 because it has no allocated buffer.\n",
      "2021-09-30 23:35:55.081138: I tensorflow/lite/tools/optimize/quantize_weights.cc:234] Skipping quantization of tensor Postprocessor/BatchMultiClassNonMaxSuppression/MultiClassNonMaxSuppression/unstack because it has no allocated buffer.\n",
      "2021-09-30 23:35:55.081143: I tensorflow/lite/tools/optimize/quantize_weights.cc:234] Skipping quantization of tensor Postprocessor/BatchMultiClassNonMaxSuppression/unstack_5 because it has no allocated buffer.\n",
      "2021-09-30 23:35:55.081147: I tensorflow/lite/tools/optimize/quantize_weights.cc:234] Skipping quantization of tensor Postprocessor/BatchMultiClassNonMaxSuppression/MultiClassNonMaxSuppression/unstack because it has no allocated buffer.\n",
      "2021-09-30 23:35:55.081152: I tensorflow/lite/tools/optimize/quantize_weights.cc:234] Skipping quantization of tensor Postprocessor/BatchMultiClassNonMaxSuppression/unstack_5 because it has no allocated buffer.\n",
      "2021-09-30 23:35:55.081156: I tensorflow/lite/tools/optimize/quantize_weights.cc:234] Skipping quantization of tensor Postprocessor/BatchMultiClassNonMaxSuppression/MultiClassNonMaxSuppression/unstack because it has no allocated buffer.\n",
      "2021-09-30 23:35:55.081160: I tensorflow/lite/tools/optimize/quantize_weights.cc:234] Skipping quantization of tensor Postprocessor/BatchMultiClassNonMaxSuppression/unstack_5 because it has no allocated buffer.\n",
      "2021-09-30 23:35:55.081164: I tensorflow/lite/tools/optimize/quantize_weights.cc:234] Skipping quantization of tensor Postprocessor/BatchMultiClassNonMaxSuppression/MultiClassNonMaxSuppression/unstack because it has no allocated buffer.\n",
      "2021-09-30 23:35:55.081169: I tensorflow/lite/tools/optimize/quantize_weights.cc:234] Skipping quantization of tensor Postprocessor/BatchMultiClassNonMaxSuppression/unstack_5 because it has no allocated buffer.\n",
      "2021-09-30 23:35:55.081173: I tensorflow/lite/tools/optimize/quantize_weights.cc:234] Skipping quantization of tensor Postprocessor/BatchMultiClassNonMaxSuppression/MultiClassNonMaxSuppression/unstack because it has no allocated buffer.\n",
      "2021-09-30 23:35:55.081178: I tensorflow/lite/tools/optimize/quantize_weights.cc:234] Skipping quantization of tensor Postprocessor/BatchMultiClassNonMaxSuppression/unstack_5 because it has no allocated buffer.\n",
      "2021-09-30 23:35:55.081182: I tensorflow/lite/tools/optimize/quantize_weights.cc:234] Skipping quantization of tensor Postprocessor/BatchMultiClassNonMaxSuppression/MultiClassNonMaxSuppression/unstack because it has no allocated buffer.\n",
      "2021-09-30 23:35:55.081187: I tensorflow/lite/tools/optimize/quantize_weights.cc:234] Skipping quantization of tensor Postprocessor/BatchMultiClassNonMaxSuppression/unstack_5 because it has no allocated buffer.\n",
      "2021-09-30 23:35:55.081192: I tensorflow/lite/tools/optimize/quantize_weights.cc:234] Skipping quantization of tensor Postprocessor/BatchMultiClassNonMaxSuppression/MultiClassNonMaxSuppression/unstack because it has no allocated buffer.\n",
      "2021-09-30 23:35:55.081197: I tensorflow/lite/tools/optimize/quantize_weights.cc:234] Skipping quantization of tensor Postprocessor/BatchMultiClassNonMaxSuppression/unstack_5 because it has no allocated buffer.\n",
      "2021-09-30 23:35:55.081201: I tensorflow/lite/tools/optimize/quantize_weights.cc:234] Skipping quantization of tensor Postprocessor/BatchMultiClassNonMaxSuppression/MultiClassNonMaxSuppression/unstack because it has no allocated buffer.\n",
      "2021-09-30 23:35:55.081205: I tensorflow/lite/tools/optimize/quantize_weights.cc:234] Skipping quantization of tensor Postprocessor/BatchMultiClassNonMaxSuppression/unstack_5 because it has no allocated buffer.\n",
      "2021-09-30 23:35:55.081209: I tensorflow/lite/tools/optimize/quantize_weights.cc:234] Skipping quantization of tensor Postprocessor/BatchMultiClassNonMaxSuppression/MultiClassNonMaxSuppression/unstack because it has no allocated buffer.\n",
      "2021-09-30 23:35:55.081214: I tensorflow/lite/tools/optimize/quantize_weights.cc:234] Skipping quantization of tensor Postprocessor/BatchMultiClassNonMaxSuppression/unstack_5 because it has no allocated buffer.\n",
      "2021-09-30 23:35:55.081218: I tensorflow/lite/tools/optimize/quantize_weights.cc:234] Skipping quantization of tensor Postprocessor/BatchMultiClassNonMaxSuppression/MultiClassNonMaxSuppression/unstack because it has no allocated buffer.\n",
      "2021-09-30 23:35:55.081222: I tensorflow/lite/tools/optimize/quantize_weights.cc:234] Skipping quantization of tensor Postprocessor/BatchMultiClassNonMaxSuppression/unstack_5 because it has no allocated buffer.\n",
      "2021-09-30 23:35:55.081226: I tensorflow/lite/tools/optimize/quantize_weights.cc:234] Skipping quantization of tensor Postprocessor/BatchMultiClassNonMaxSuppression/MultiClassNonMaxSuppression/unstack because it has no allocated buffer.\n",
      "2021-09-30 23:35:55.081231: I tensorflow/lite/tools/optimize/quantize_weights.cc:234] Skipping quantization of tensor Postprocessor/BatchMultiClassNonMaxSuppression/unstack_5 because it has no allocated buffer.\n",
      "2021-09-30 23:35:55.081235: I tensorflow/lite/tools/optimize/quantize_weights.cc:234] Skipping quantization of tensor Postprocessor/BatchMultiClassNonMaxSuppression/MultiClassNonMaxSuppression/unstack because it has no allocated buffer.\n",
      "2021-09-30 23:35:55.081239: I tensorflow/lite/tools/optimize/quantize_weights.cc:234] Skipping quantization of tensor Postprocessor/BatchMultiClassNonMaxSuppression/unstack_5 because it has no allocated buffer.\n",
      "2021-09-30 23:35:55.081243: I tensorflow/lite/tools/optimize/quantize_weights.cc:234] Skipping quantization of tensor Postprocessor/BatchMultiClassNonMaxSuppression/MultiClassNonMaxSuppression/unstack because it has no allocated buffer.\n",
      "2021-09-30 23:35:55.081248: I tensorflow/lite/tools/optimize/quantize_weights.cc:234] Skipping quantization of tensor Postprocessor/BatchMultiClassNonMaxSuppression/unstack_5 because it has no allocated buffer.\n",
      "2021-09-30 23:35:55.081252: I tensorflow/lite/tools/optimize/quantize_weights.cc:234] Skipping quantization of tensor Postprocessor/BatchMultiClassNonMaxSuppression/MultiClassNonMaxSuppression/unstack because it has no allocated buffer.\n",
      "2021-09-30 23:35:55.081256: I tensorflow/lite/tools/optimize/quantize_weights.cc:234] Skipping quantization of tensor Postprocessor/BatchMultiClassNonMaxSuppression/unstack_5 because it has no allocated buffer.\n",
      "2021-09-30 23:35:55.081260: I tensorflow/lite/tools/optimize/quantize_weights.cc:234] Skipping quantization of tensor Postprocessor/BatchMultiClassNonMaxSuppression/MultiClassNonMaxSuppression/unstack because it has no allocated buffer.\n",
      "2021-09-30 23:35:55.081265: I tensorflow/lite/tools/optimize/quantize_weights.cc:234] Skipping quantization of tensor Postprocessor/BatchMultiClassNonMaxSuppression/unstack_5 because it has no allocated buffer.\n",
      "2021-09-30 23:35:55.081269: I tensorflow/lite/tools/optimize/quantize_weights.cc:234] Skipping quantization of tensor Postprocessor/BatchMultiClassNonMaxSuppression/MultiClassNonMaxSuppression/unstack because it has no allocated buffer.\n",
      "2021-09-30 23:35:55.081273: I tensorflow/lite/tools/optimize/quantize_weights.cc:234] Skipping quantization of tensor Postprocessor/BatchMultiClassNonMaxSuppression/unstack_5 because it has no allocated buffer.\n",
      "2021-09-30 23:35:55.081277: I tensorflow/lite/tools/optimize/quantize_weights.cc:234] Skipping quantization of tensor Postprocessor/BatchMultiClassNonMaxSuppression/MultiClassNonMaxSuppression/unstack because it has no allocated buffer.\n",
      "2021-09-30 23:35:55.081282: I tensorflow/lite/tools/optimize/quantize_weights.cc:234] Skipping quantization of tensor Postprocessor/BatchMultiClassNonMaxSuppression/unstack_5 because it has no allocated buffer.\n",
      "2021-09-30 23:35:55.081286: I tensorflow/lite/tools/optimize/quantize_weights.cc:234] Skipping quantization of tensor Postprocessor/BatchMultiClassNonMaxSuppression/MultiClassNonMaxSuppression/unstack because it has no allocated buffer.\n",
      "2021-09-30 23:35:55.081291: I tensorflow/lite/tools/optimize/quantize_weights.cc:234] Skipping quantization of tensor Postprocessor/BatchMultiClassNonMaxSuppression/unstack_5 because it has no allocated buffer.\n",
      "2021-09-30 23:35:55.081295: I tensorflow/lite/tools/optimize/quantize_weights.cc:234] Skipping quantization of tensor Postprocessor/BatchMultiClassNonMaxSuppression/MultiClassNonMaxSuppression/unstack because it has no allocated buffer.\n",
      "2021-09-30 23:35:55.081299: I tensorflow/lite/tools/optimize/quantize_weights.cc:234] Skipping quantization of tensor Postprocessor/BatchMultiClassNonMaxSuppression/unstack_5 because it has no allocated buffer.\n",
      "2021-09-30 23:35:55.081303: I tensorflow/lite/tools/optimize/quantize_weights.cc:234] Skipping quantization of tensor Postprocessor/BatchMultiClassNonMaxSuppression/MultiClassNonMaxSuppression/unstack because it has no allocated buffer.\n",
      "2021-09-30 23:35:55.081308: I tensorflow/lite/tools/optimize/quantize_weights.cc:234] Skipping quantization of tensor Postprocessor/BatchMultiClassNonMaxSuppression/unstack_5 because it has no allocated buffer.\n",
      "2021-09-30 23:35:55.081312: I tensorflow/lite/tools/optimize/quantize_weights.cc:234] Skipping quantization of tensor Postprocessor/BatchMultiClassNonMaxSuppression/MultiClassNonMaxSuppression/unstack because it has no allocated buffer.\n",
      "2021-09-30 23:35:55.081316: I tensorflow/lite/tools/optimize/quantize_weights.cc:234] Skipping quantization of tensor Postprocessor/BatchMultiClassNonMaxSuppression/unstack_5 because it has no allocated buffer.\n",
      "2021-09-30 23:35:55.081320: I tensorflow/lite/tools/optimize/quantize_weights.cc:234] Skipping quantization of tensor Postprocessor/BatchMultiClassNonMaxSuppression/MultiClassNonMaxSuppression/unstack because it has no allocated buffer.\n",
      "2021-09-30 23:35:55.081325: I tensorflow/lite/tools/optimize/quantize_weights.cc:234] Skipping quantization of tensor Postprocessor/BatchMultiClassNonMaxSuppression/unstack_5 because it has no allocated buffer.\n",
      "2021-09-30 23:35:55.081329: I tensorflow/lite/tools/optimize/quantize_weights.cc:234] Skipping quantization of tensor Postprocessor/BatchMultiClassNonMaxSuppression/MultiClassNonMaxSuppression/unstack because it has no allocated buffer.\n",
      "2021-09-30 23:35:55.081334: I tensorflow/lite/tools/optimize/quantize_weights.cc:234] Skipping quantization of tensor Postprocessor/BatchMultiClassNonMaxSuppression/unstack_5 because it has no allocated buffer.\n",
      "2021-09-30 23:35:55.081337: I tensorflow/lite/tools/optimize/quantize_weights.cc:234] Skipping quantization of tensor Postprocessor/BatchMultiClassNonMaxSuppression/MultiClassNonMaxSuppression/unstack because it has no allocated buffer.\n",
      "2021-09-30 23:35:55.081342: I tensorflow/lite/tools/optimize/quantize_weights.cc:234] Skipping quantization of tensor Postprocessor/BatchMultiClassNonMaxSuppression/unstack_5 because it has no allocated buffer.\n",
      "2021-09-30 23:35:55.081662: I tensorflow/lite/tools/optimize/quantize_weights.cc:234] Skipping quantization of tensor Postprocessor/BatchMultiClassNonMaxSuppression/MultiClassNonMaxSuppression/unstack because it has no allocated buffer.\n",
      "2021-09-30 23:35:55.081674: I tensorflow/lite/tools/optimize/quantize_weights.cc:234] Skipping quantization of tensor Postprocessor/BatchMultiClassNonMaxSuppression/unstack_5 because it has no allocated buffer.\n",
      "2021-09-30 23:35:55.081679: I tensorflow/lite/tools/optimize/quantize_weights.cc:234] Skipping quantization of tensor Postprocessor/BatchMultiClassNonMaxSuppression/MultiClassNonMaxSuppression/unstack because it has no allocated buffer.\n",
      "2021-09-30 23:35:55.081684: I tensorflow/lite/tools/optimize/quantize_weights.cc:234] Skipping quantization of tensor Postprocessor/BatchMultiClassNonMaxSuppression/unstack_5 because it has no allocated buffer.\n",
      "2021-09-30 23:35:55.081689: I tensorflow/lite/tools/optimize/quantize_weights.cc:234] Skipping quantization of tensor Postprocessor/BatchMultiClassNonMaxSuppression/MultiClassNonMaxSuppression/unstack because it has no allocated buffer.\n",
      "2021-09-30 23:35:55.081693: I tensorflow/lite/tools/optimize/quantize_weights.cc:234] Skipping quantization of tensor Postprocessor/BatchMultiClassNonMaxSuppression/unstack_5 because it has no allocated buffer.\n",
      "2021-09-30 23:35:55.081697: I tensorflow/lite/tools/optimize/quantize_weights.cc:234] Skipping quantization of tensor Postprocessor/BatchMultiClassNonMaxSuppression/MultiClassNonMaxSuppression/unstack because it has no allocated buffer.\n",
      "2021-09-30 23:35:55.081701: I tensorflow/lite/tools/optimize/quantize_weights.cc:234] Skipping quantization of tensor Postprocessor/BatchMultiClassNonMaxSuppression/unstack_5 because it has no allocated buffer.\n",
      "2021-09-30 23:35:55.081705: I tensorflow/lite/tools/optimize/quantize_weights.cc:234] Skipping quantization of tensor Postprocessor/BatchMultiClassNonMaxSuppression/MultiClassNonMaxSuppression/unstack because it has no allocated buffer.\n",
      "2021-09-30 23:35:55.081710: I tensorflow/lite/tools/optimize/quantize_weights.cc:234] Skipping quantization of tensor Postprocessor/BatchMultiClassNonMaxSuppression/unstack_5 because it has no allocated buffer.\n",
      "2021-09-30 23:35:55.081713: I tensorflow/lite/tools/optimize/quantize_weights.cc:234] Skipping quantization of tensor Postprocessor/BatchMultiClassNonMaxSuppression/MultiClassNonMaxSuppression/unstack because it has no allocated buffer.\n",
      "2021-09-30 23:35:55.081718: I tensorflow/lite/tools/optimize/quantize_weights.cc:234] Skipping quantization of tensor Postprocessor/BatchMultiClassNonMaxSuppression/unstack_5 because it has no allocated buffer.\n",
      "2021-09-30 23:35:55.081722: I tensorflow/lite/tools/optimize/quantize_weights.cc:234] Skipping quantization of tensor Postprocessor/BatchMultiClassNonMaxSuppression/MultiClassNonMaxSuppression/unstack because it has no allocated buffer.\n",
      "2021-09-30 23:35:55.081726: I tensorflow/lite/tools/optimize/quantize_weights.cc:234] Skipping quantization of tensor Postprocessor/BatchMultiClassNonMaxSuppression/unstack_5 because it has no allocated buffer.\n",
      "2021-09-30 23:35:55.081730: I tensorflow/lite/tools/optimize/quantize_weights.cc:234] Skipping quantization of tensor Postprocessor/BatchMultiClassNonMaxSuppression/MultiClassNonMaxSuppression/unstack because it has no allocated buffer.\n",
      "2021-09-30 23:35:55.081735: I tensorflow/lite/tools/optimize/quantize_weights.cc:234] Skipping quantization of tensor Postprocessor/BatchMultiClassNonMaxSuppression/unstack_5 because it has no allocated buffer.\n",
      "2021-09-30 23:35:55.081739: I tensorflow/lite/tools/optimize/quantize_weights.cc:234] Skipping quantization of tensor Postprocessor/BatchMultiClassNonMaxSuppression/MultiClassNonMaxSuppression/unstack because it has no allocated buffer.\n",
      "2021-09-30 23:35:55.081743: I tensorflow/lite/tools/optimize/quantize_weights.cc:234] Skipping quantization of tensor Postprocessor/BatchMultiClassNonMaxSuppression/unstack_5 because it has no allocated buffer.\n",
      "2021-09-30 23:35:55.081747: I tensorflow/lite/tools/optimize/quantize_weights.cc:234] Skipping quantization of tensor Postprocessor/BatchMultiClassNonMaxSuppression/MultiClassNonMaxSuppression/unstack because it has no allocated buffer.\n",
      "2021-09-30 23:35:55.081752: I tensorflow/lite/tools/optimize/quantize_weights.cc:234] Skipping quantization of tensor Postprocessor/BatchMultiClassNonMaxSuppression/unstack_5 because it has no allocated buffer.\n",
      "2021-09-30 23:35:55.081756: I tensorflow/lite/tools/optimize/quantize_weights.cc:234] Skipping quantization of tensor Postprocessor/BatchMultiClassNonMaxSuppression/MultiClassNonMaxSuppression/unstack because it has no allocated buffer.\n",
      "2021-09-30 23:35:55.081760: I tensorflow/lite/tools/optimize/quantize_weights.cc:234] Skipping quantization of tensor Postprocessor/BatchMultiClassNonMaxSuppression/unstack_5 because it has no allocated buffer.\n",
      "2021-09-30 23:35:55.081764: I tensorflow/lite/tools/optimize/quantize_weights.cc:234] Skipping quantization of tensor Postprocessor/BatchMultiClassNonMaxSuppression/MultiClassNonMaxSuppression/unstack because it has no allocated buffer.\n",
      "2021-09-30 23:35:55.081768: I tensorflow/lite/tools/optimize/quantize_weights.cc:234] Skipping quantization of tensor Postprocessor/BatchMultiClassNonMaxSuppression/unstack_5 because it has no allocated buffer.\n",
      "2021-09-30 23:35:55.081772: I tensorflow/lite/tools/optimize/quantize_weights.cc:234] Skipping quantization of tensor Postprocessor/BatchMultiClassNonMaxSuppression/MultiClassNonMaxSuppression/unstack because it has no allocated buffer.\n",
      "2021-09-30 23:35:55.081777: I tensorflow/lite/tools/optimize/quantize_weights.cc:234] Skipping quantization of tensor Postprocessor/BatchMultiClassNonMaxSuppression/unstack_5 because it has no allocated buffer.\n",
      "2021-09-30 23:35:55.081781: I tensorflow/lite/tools/optimize/quantize_weights.cc:234] Skipping quantization of tensor Postprocessor/BatchMultiClassNonMaxSuppression/MultiClassNonMaxSuppression/unstack because it has no allocated buffer.\n",
      "2021-09-30 23:35:55.081785: I tensorflow/lite/tools/optimize/quantize_weights.cc:234] Skipping quantization of tensor Postprocessor/BatchMultiClassNonMaxSuppression/unstack_5 because it has no allocated buffer.\n",
      "2021-09-30 23:35:55.081789: I tensorflow/lite/tools/optimize/quantize_weights.cc:234] Skipping quantization of tensor Postprocessor/BatchMultiClassNonMaxSuppression/MultiClassNonMaxSuppression/unstack because it has no allocated buffer.\n",
      "2021-09-30 23:35:55.081793: I tensorflow/lite/tools/optimize/quantize_weights.cc:234] Skipping quantization of tensor Postprocessor/BatchMultiClassNonMaxSuppression/unstack_5 because it has no allocated buffer.\n",
      "2021-09-30 23:35:55.081797: I tensorflow/lite/tools/optimize/quantize_weights.cc:234] Skipping quantization of tensor Postprocessor/BatchMultiClassNonMaxSuppression/MultiClassNonMaxSuppression/unstack because it has no allocated buffer.\n",
      "2021-09-30 23:35:55.081801: I tensorflow/lite/tools/optimize/quantize_weights.cc:234] Skipping quantization of tensor Postprocessor/BatchMultiClassNonMaxSuppression/unstack_5 because it has no allocated buffer.\n",
      "2021-09-30 23:35:55.081805: I tensorflow/lite/tools/optimize/quantize_weights.cc:234] Skipping quantization of tensor Postprocessor/BatchMultiClassNonMaxSuppression/MultiClassNonMaxSuppression/unstack because it has no allocated buffer.\n",
      "2021-09-30 23:35:55.081810: I tensorflow/lite/tools/optimize/quantize_weights.cc:234] Skipping quantization of tensor Postprocessor/BatchMultiClassNonMaxSuppression/unstack_5 because it has no allocated buffer.\n",
      "2021-09-30 23:35:55.081814: I tensorflow/lite/tools/optimize/quantize_weights.cc:234] Skipping quantization of tensor Postprocessor/BatchMultiClassNonMaxSuppression/MultiClassNonMaxSuppression/unstack because it has no allocated buffer.\n",
      "2021-09-30 23:35:55.081818: I tensorflow/lite/tools/optimize/quantize_weights.cc:234] Skipping quantization of tensor Postprocessor/BatchMultiClassNonMaxSuppression/unstack_5 because it has no allocated buffer.\n",
      "2021-09-30 23:35:55.081822: I tensorflow/lite/tools/optimize/quantize_weights.cc:234] Skipping quantization of tensor Postprocessor/BatchMultiClassNonMaxSuppression/MultiClassNonMaxSuppression/unstack because it has no allocated buffer.\n",
      "2021-09-30 23:35:55.081827: I tensorflow/lite/tools/optimize/quantize_weights.cc:234] Skipping quantization of tensor Postprocessor/BatchMultiClassNonMaxSuppression/unstack_5 because it has no allocated buffer.\n",
      "2021-09-30 23:35:55.081831: I tensorflow/lite/tools/optimize/quantize_weights.cc:234] Skipping quantization of tensor Postprocessor/BatchMultiClassNonMaxSuppression/MultiClassNonMaxSuppression/unstack because it has no allocated buffer.\n",
      "2021-09-30 23:35:55.081835: I tensorflow/lite/tools/optimize/quantize_weights.cc:234] Skipping quantization of tensor Postprocessor/BatchMultiClassNonMaxSuppression/unstack_5 because it has no allocated buffer.\n",
      "2021-09-30 23:35:55.081839: I tensorflow/lite/tools/optimize/quantize_weights.cc:234] Skipping quantization of tensor Postprocessor/BatchMultiClassNonMaxSuppression/MultiClassNonMaxSuppression/unstack because it has no allocated buffer.\n",
      "2021-09-30 23:35:55.081844: I tensorflow/lite/tools/optimize/quantize_weights.cc:234] Skipping quantization of tensor Postprocessor/BatchMultiClassNonMaxSuppression/unstack_5 because it has no allocated buffer.\n",
      "2021-09-30 23:35:55.081847: I tensorflow/lite/tools/optimize/quantize_weights.cc:234] Skipping quantization of tensor Postprocessor/BatchMultiClassNonMaxSuppression/MultiClassNonMaxSuppression/unstack because it has no allocated buffer.\n",
      "2021-09-30 23:35:55.081852: I tensorflow/lite/tools/optimize/quantize_weights.cc:234] Skipping quantization of tensor Postprocessor/BatchMultiClassNonMaxSuppression/unstack_5 because it has no allocated buffer.\n",
      "2021-09-30 23:35:55.081856: I tensorflow/lite/tools/optimize/quantize_weights.cc:234] Skipping quantization of tensor Postprocessor/BatchMultiClassNonMaxSuppression/MultiClassNonMaxSuppression/unstack because it has no allocated buffer.\n",
      "2021-09-30 23:35:55.081861: I tensorflow/lite/tools/optimize/quantize_weights.cc:234] Skipping quantization of tensor Postprocessor/BatchMultiClassNonMaxSuppression/unstack_5 because it has no allocated buffer.\n",
      "2021-09-30 23:35:55.081864: I tensorflow/lite/tools/optimize/quantize_weights.cc:234] Skipping quantization of tensor Postprocessor/BatchMultiClassNonMaxSuppression/MultiClassNonMaxSuppression/unstack because it has no allocated buffer.\n",
      "2021-09-30 23:35:55.081869: I tensorflow/lite/tools/optimize/quantize_weights.cc:234] Skipping quantization of tensor Postprocessor/BatchMultiClassNonMaxSuppression/unstack_5 because it has no allocated buffer.\n",
      "2021-09-30 23:35:55.081873: I tensorflow/lite/tools/optimize/quantize_weights.cc:234] Skipping quantization of tensor Postprocessor/BatchMultiClassNonMaxSuppression/MultiClassNonMaxSuppression/unstack because it has no allocated buffer.\n",
      "2021-09-30 23:35:55.081877: I tensorflow/lite/tools/optimize/quantize_weights.cc:234] Skipping quantization of tensor Postprocessor/BatchMultiClassNonMaxSuppression/unstack_5 because it has no allocated buffer.\n",
      "2021-09-30 23:35:55.081881: I tensorflow/lite/tools/optimize/quantize_weights.cc:234] Skipping quantization of tensor Postprocessor/BatchMultiClassNonMaxSuppression/MultiClassNonMaxSuppression/unstack because it has no allocated buffer.\n",
      "2021-09-30 23:35:55.081886: I tensorflow/lite/tools/optimize/quantize_weights.cc:234] Skipping quantization of tensor Postprocessor/BatchMultiClassNonMaxSuppression/unstack_5 because it has no allocated buffer.\n",
      "2021-09-30 23:35:55.081889: I tensorflow/lite/tools/optimize/quantize_weights.cc:234] Skipping quantization of tensor Postprocessor/BatchMultiClassNonMaxSuppression/MultiClassNonMaxSuppression/unstack because it has no allocated buffer.\n",
      "2021-09-30 23:35:55.081894: I tensorflow/lite/tools/optimize/quantize_weights.cc:234] Skipping quantization of tensor Postprocessor/BatchMultiClassNonMaxSuppression/unstack_5 because it has no allocated buffer.\n",
      "2021-09-30 23:35:55.081898: I tensorflow/lite/tools/optimize/quantize_weights.cc:234] Skipping quantization of tensor Postprocessor/BatchMultiClassNonMaxSuppression/MultiClassNonMaxSuppression/unstack because it has no allocated buffer.\n",
      "2021-09-30 23:35:55.081902: I tensorflow/lite/tools/optimize/quantize_weights.cc:234] Skipping quantization of tensor Postprocessor/BatchMultiClassNonMaxSuppression/unstack_5 because it has no allocated buffer.\n",
      "2021-09-30 23:35:55.081906: I tensorflow/lite/tools/optimize/quantize_weights.cc:234] Skipping quantization of tensor Postprocessor/BatchMultiClassNonMaxSuppression/MultiClassNonMaxSuppression/unstack because it has no allocated buffer.\n",
      "2021-09-30 23:35:55.081911: I tensorflow/lite/tools/optimize/quantize_weights.cc:234] Skipping quantization of tensor Postprocessor/BatchMultiClassNonMaxSuppression/unstack_5 because it has no allocated buffer.\n",
      "2021-09-30 23:35:55.081915: I tensorflow/lite/tools/optimize/quantize_weights.cc:234] Skipping quantization of tensor Postprocessor/BatchMultiClassNonMaxSuppression/MultiClassNonMaxSuppression/unstack because it has no allocated buffer.\n",
      "2021-09-30 23:35:55.081919: I tensorflow/lite/tools/optimize/quantize_weights.cc:234] Skipping quantization of tensor Postprocessor/BatchMultiClassNonMaxSuppression/unstack_5 because it has no allocated buffer.\n",
      "2021-09-30 23:35:55.081923: I tensorflow/lite/tools/optimize/quantize_weights.cc:234] Skipping quantization of tensor Postprocessor/BatchMultiClassNonMaxSuppression/MultiClassNonMaxSuppression/unstack because it has no allocated buffer.\n",
      "2021-09-30 23:35:55.081927: I tensorflow/lite/tools/optimize/quantize_weights.cc:234] Skipping quantization of tensor Postprocessor/BatchMultiClassNonMaxSuppression/unstack_5 because it has no allocated buffer.\n",
      "2021-09-30 23:35:55.081931: I tensorflow/lite/tools/optimize/quantize_weights.cc:234] Skipping quantization of tensor Postprocessor/BatchMultiClassNonMaxSuppression/MultiClassNonMaxSuppression/unstack because it has no allocated buffer.\n",
      "2021-09-30 23:35:55.081936: I tensorflow/lite/tools/optimize/quantize_weights.cc:234] Skipping quantization of tensor Postprocessor/BatchMultiClassNonMaxSuppression/unstack_5 because it has no allocated buffer.\n",
      "2021-09-30 23:35:55.081940: I tensorflow/lite/tools/optimize/quantize_weights.cc:234] Skipping quantization of tensor Postprocessor/BatchMultiClassNonMaxSuppression/MultiClassNonMaxSuppression/unstack because it has no allocated buffer.\n",
      "2021-09-30 23:35:55.081944: I tensorflow/lite/tools/optimize/quantize_weights.cc:234] Skipping quantization of tensor Postprocessor/BatchMultiClassNonMaxSuppression/unstack_5 because it has no allocated buffer.\n",
      "2021-09-30 23:35:55.081948: I tensorflow/lite/tools/optimize/quantize_weights.cc:234] Skipping quantization of tensor Postprocessor/BatchMultiClassNonMaxSuppression/MultiClassNonMaxSuppression/unstack because it has no allocated buffer.\n",
      "2021-09-30 23:35:55.081952: I tensorflow/lite/tools/optimize/quantize_weights.cc:234] Skipping quantization of tensor Postprocessor/BatchMultiClassNonMaxSuppression/unstack_5 because it has no allocated buffer.\n",
      "2021-09-30 23:35:55.081956: I tensorflow/lite/tools/optimize/quantize_weights.cc:234] Skipping quantization of tensor Postprocessor/BatchMultiClassNonMaxSuppression/MultiClassNonMaxSuppression/unstack because it has no allocated buffer.\n",
      "2021-09-30 23:35:55.081961: I tensorflow/lite/tools/optimize/quantize_weights.cc:234] Skipping quantization of tensor Postprocessor/BatchMultiClassNonMaxSuppression/unstack_5 because it has no allocated buffer.\n",
      "2021-09-30 23:35:55.081964: I tensorflow/lite/tools/optimize/quantize_weights.cc:234] Skipping quantization of tensor Postprocessor/BatchMultiClassNonMaxSuppression/MultiClassNonMaxSuppression/unstack because it has no allocated buffer.\n",
      "2021-09-30 23:35:55.081969: I tensorflow/lite/tools/optimize/quantize_weights.cc:234] Skipping quantization of tensor Postprocessor/BatchMultiClassNonMaxSuppression/unstack_5 because it has no allocated buffer.\n",
      "2021-09-30 23:35:55.081973: I tensorflow/lite/tools/optimize/quantize_weights.cc:234] Skipping quantization of tensor Postprocessor/BatchMultiClassNonMaxSuppression/MultiClassNonMaxSuppression/unstack because it has no allocated buffer.\n",
      "2021-09-30 23:35:55.081978: I tensorflow/lite/tools/optimize/quantize_weights.cc:234] Skipping quantization of tensor Postprocessor/BatchMultiClassNonMaxSuppression/unstack_5 because it has no allocated buffer.\n",
      "2021-09-30 23:35:55.081982: I tensorflow/lite/tools/optimize/quantize_weights.cc:234] Skipping quantization of tensor Postprocessor/BatchMultiClassNonMaxSuppression/MultiClassNonMaxSuppression/unstack because it has no allocated buffer.\n",
      "2021-09-30 23:35:55.081986: I tensorflow/lite/tools/optimize/quantize_weights.cc:234] Skipping quantization of tensor Postprocessor/BatchMultiClassNonMaxSuppression/unstack_5 because it has no allocated buffer.\n",
      "2021-09-30 23:35:55.081990: I tensorflow/lite/tools/optimize/quantize_weights.cc:234] Skipping quantization of tensor Postprocessor/BatchMultiClassNonMaxSuppression/MultiClassNonMaxSuppression/unstack because it has no allocated buffer.\n",
      "2021-09-30 23:35:55.081995: I tensorflow/lite/tools/optimize/quantize_weights.cc:234] Skipping quantization of tensor Postprocessor/BatchMultiClassNonMaxSuppression/unstack_5 because it has no allocated buffer.\n",
      "2021-09-30 23:35:55.081999: I tensorflow/lite/tools/optimize/quantize_weights.cc:234] Skipping quantization of tensor Postprocessor/BatchMultiClassNonMaxSuppression/MultiClassNonMaxSuppression/unstack because it has no allocated buffer.\n",
      "2021-09-30 23:35:55.082003: I tensorflow/lite/tools/optimize/quantize_weights.cc:234] Skipping quantization of tensor Postprocessor/BatchMultiClassNonMaxSuppression/unstack_5 because it has no allocated buffer.\n",
      "2021-09-30 23:35:55.082007: I tensorflow/lite/tools/optimize/quantize_weights.cc:234] Skipping quantization of tensor Postprocessor/BatchMultiClassNonMaxSuppression/MultiClassNonMaxSuppression/unstack because it has no allocated buffer.\n",
      "2021-09-30 23:35:55.082011: I tensorflow/lite/tools/optimize/quantize_weights.cc:234] Skipping quantization of tensor Postprocessor/BatchMultiClassNonMaxSuppression/unstack_5 because it has no allocated buffer.\n",
      "2021-09-30 23:35:55.082016: I tensorflow/lite/tools/optimize/quantize_weights.cc:234] Skipping quantization of tensor Postprocessor/BatchMultiClassNonMaxSuppression/MultiClassNonMaxSuppression/unstack because it has no allocated buffer.\n",
      "2021-09-30 23:35:55.082020: I tensorflow/lite/tools/optimize/quantize_weights.cc:234] Skipping quantization of tensor Postprocessor/BatchMultiClassNonMaxSuppression/unstack_5 because it has no allocated buffer.\n",
      "2021-09-30 23:35:55.082024: I tensorflow/lite/tools/optimize/quantize_weights.cc:234] Skipping quantization of tensor Postprocessor/BatchMultiClassNonMaxSuppression/MultiClassNonMaxSuppression/unstack because it has no allocated buffer.\n",
      "2021-09-30 23:35:55.082028: I tensorflow/lite/tools/optimize/quantize_weights.cc:234] Skipping quantization of tensor Postprocessor/BatchMultiClassNonMaxSuppression/unstack_5 because it has no allocated buffer.\n",
      "2021-09-30 23:35:55.082032: I tensorflow/lite/tools/optimize/quantize_weights.cc:234] Skipping quantization of tensor Postprocessor/BatchMultiClassNonMaxSuppression/MultiClassNonMaxSuppression/unstack because it has no allocated buffer.\n",
      "2021-09-30 23:35:55.082037: I tensorflow/lite/tools/optimize/quantize_weights.cc:234] Skipping quantization of tensor Postprocessor/BatchMultiClassNonMaxSuppression/unstack_5 because it has no allocated buffer.\n",
      "2021-09-30 23:35:55.082040: I tensorflow/lite/tools/optimize/quantize_weights.cc:234] Skipping quantization of tensor Postprocessor/BatchMultiClassNonMaxSuppression/MultiClassNonMaxSuppression/unstack because it has no allocated buffer.\n",
      "2021-09-30 23:35:55.082045: I tensorflow/lite/tools/optimize/quantize_weights.cc:234] Skipping quantization of tensor Postprocessor/BatchMultiClassNonMaxSuppression/unstack_5 because it has no allocated buffer.\n",
      "2021-09-30 23:35:55.082049: I tensorflow/lite/tools/optimize/quantize_weights.cc:234] Skipping quantization of tensor Postprocessor/BatchMultiClassNonMaxSuppression/MultiClassNonMaxSuppression/unstack because it has no allocated buffer.\n",
      "2021-09-30 23:35:55.082053: I tensorflow/lite/tools/optimize/quantize_weights.cc:234] Skipping quantization of tensor Postprocessor/BatchMultiClassNonMaxSuppression/unstack_5 because it has no allocated buffer.\n",
      "2021-09-30 23:35:55.082057: I tensorflow/lite/tools/optimize/quantize_weights.cc:234] Skipping quantization of tensor Postprocessor/BatchMultiClassNonMaxSuppression/MultiClassNonMaxSuppression/unstack because it has no allocated buffer.\n",
      "2021-09-30 23:35:55.082062: I tensorflow/lite/tools/optimize/quantize_weights.cc:234] Skipping quantization of tensor Postprocessor/BatchMultiClassNonMaxSuppression/unstack_5 because it has no allocated buffer.\n",
      "2021-09-30 23:35:55.082066: I tensorflow/lite/tools/optimize/quantize_weights.cc:234] Skipping quantization of tensor Postprocessor/BatchMultiClassNonMaxSuppression/MultiClassNonMaxSuppression/unstack because it has no allocated buffer.\n",
      "2021-09-30 23:35:55.082070: I tensorflow/lite/tools/optimize/quantize_weights.cc:234] Skipping quantization of tensor Postprocessor/BatchMultiClassNonMaxSuppression/unstack_5 because it has no allocated buffer.\n",
      "2021-09-30 23:35:55.082074: I tensorflow/lite/tools/optimize/quantize_weights.cc:234] Skipping quantization of tensor Postprocessor/BatchMultiClassNonMaxSuppression/MultiClassNonMaxSuppression/unstack because it has no allocated buffer.\n",
      "2021-09-30 23:35:55.082079: I tensorflow/lite/tools/optimize/quantize_weights.cc:234] Skipping quantization of tensor Postprocessor/BatchMultiClassNonMaxSuppression/unstack_5 because it has no allocated buffer.\n",
      "2021-09-30 23:35:55.082082: I tensorflow/lite/tools/optimize/quantize_weights.cc:234] Skipping quantization of tensor Postprocessor/BatchMultiClassNonMaxSuppression/MultiClassNonMaxSuppression/unstack because it has no allocated buffer.\n",
      "2021-09-30 23:35:55.082087: I tensorflow/lite/tools/optimize/quantize_weights.cc:234] Skipping quantization of tensor Postprocessor/BatchMultiClassNonMaxSuppression/unstack_5 because it has no allocated buffer.\n",
      "2021-09-30 23:35:55.082091: I tensorflow/lite/tools/optimize/quantize_weights.cc:234] Skipping quantization of tensor Postprocessor/BatchMultiClassNonMaxSuppression/MultiClassNonMaxSuppression/unstack because it has no allocated buffer.\n",
      "2021-09-30 23:35:55.082095: I tensorflow/lite/tools/optimize/quantize_weights.cc:234] Skipping quantization of tensor Postprocessor/BatchMultiClassNonMaxSuppression/unstack_5 because it has no allocated buffer.\n",
      "2021-09-30 23:35:55.082099: I tensorflow/lite/tools/optimize/quantize_weights.cc:234] Skipping quantization of tensor Postprocessor/BatchMultiClassNonMaxSuppression/MultiClassNonMaxSuppression/unstack because it has no allocated buffer.\n",
      "2021-09-30 23:35:55.082103: I tensorflow/lite/tools/optimize/quantize_weights.cc:234] Skipping quantization of tensor Postprocessor/BatchMultiClassNonMaxSuppression/unstack_5 because it has no allocated buffer.\n",
      "2021-09-30 23:35:55.082107: I tensorflow/lite/tools/optimize/quantize_weights.cc:234] Skipping quantization of tensor Postprocessor/BatchMultiClassNonMaxSuppression/MultiClassNonMaxSuppression/unstack because it has no allocated buffer.\n",
      "2021-09-30 23:35:55.082112: I tensorflow/lite/tools/optimize/quantize_weights.cc:234] Skipping quantization of tensor Postprocessor/BatchMultiClassNonMaxSuppression/unstack_5 because it has no allocated buffer.\n",
      "2021-09-30 23:35:55.082116: I tensorflow/lite/tools/optimize/quantize_weights.cc:234] Skipping quantization of tensor Postprocessor/BatchMultiClassNonMaxSuppression/MultiClassNonMaxSuppression/unstack because it has no allocated buffer.\n",
      "2021-09-30 23:35:55.082120: I tensorflow/lite/tools/optimize/quantize_weights.cc:234] Skipping quantization of tensor Postprocessor/BatchMultiClassNonMaxSuppression/unstack_5 because it has no allocated buffer.\n",
      "2021-09-30 23:35:55.082124: I tensorflow/lite/tools/optimize/quantize_weights.cc:234] Skipping quantization of tensor Postprocessor/BatchMultiClassNonMaxSuppression/MultiClassNonMaxSuppression/unstack because it has no allocated buffer.\n",
      "2021-09-30 23:35:55.082128: I tensorflow/lite/tools/optimize/quantize_weights.cc:234] Skipping quantization of tensor Postprocessor/BatchMultiClassNonMaxSuppression/unstack_5 because it has no allocated buffer.\n",
      "2021-09-30 23:35:55.082132: I tensorflow/lite/tools/optimize/quantize_weights.cc:234] Skipping quantization of tensor Postprocessor/BatchMultiClassNonMaxSuppression/MultiClassNonMaxSuppression/unstack because it has no allocated buffer.\n",
      "2021-09-30 23:35:55.082137: I tensorflow/lite/tools/optimize/quantize_weights.cc:234] Skipping quantization of tensor Postprocessor/BatchMultiClassNonMaxSuppression/unstack_5 because it has no allocated buffer.\n",
      "2021-09-30 23:35:55.082141: I tensorflow/lite/tools/optimize/quantize_weights.cc:234] Skipping quantization of tensor Postprocessor/BatchMultiClassNonMaxSuppression/MultiClassNonMaxSuppression/unstack because it has no allocated buffer.\n",
      "2021-09-30 23:35:55.082145: I tensorflow/lite/tools/optimize/quantize_weights.cc:234] Skipping quantization of tensor Postprocessor/BatchMultiClassNonMaxSuppression/unstack_5 because it has no allocated buffer.\n",
      "2021-09-30 23:35:55.082149: I tensorflow/lite/tools/optimize/quantize_weights.cc:234] Skipping quantization of tensor Postprocessor/BatchMultiClassNonMaxSuppression/MultiClassNonMaxSuppression/unstack because it has no allocated buffer.\n",
      "2021-09-30 23:35:55.082153: I tensorflow/lite/tools/optimize/quantize_weights.cc:234] Skipping quantization of tensor Postprocessor/BatchMultiClassNonMaxSuppression/unstack_5 because it has no allocated buffer.\n",
      "2021-09-30 23:35:55.082157: I tensorflow/lite/tools/optimize/quantize_weights.cc:234] Skipping quantization of tensor Postprocessor/BatchMultiClassNonMaxSuppression/MultiClassNonMaxSuppression/unstack because it has no allocated buffer.\n",
      "2021-09-30 23:35:55.082162: I tensorflow/lite/tools/optimize/quantize_weights.cc:234] Skipping quantization of tensor Postprocessor/BatchMultiClassNonMaxSuppression/unstack_5 because it has no allocated buffer.\n",
      "2021-09-30 23:35:55.082166: I tensorflow/lite/tools/optimize/quantize_weights.cc:234] Skipping quantization of tensor Postprocessor/BatchMultiClassNonMaxSuppression/MultiClassNonMaxSuppression/unstack because it has no allocated buffer.\n",
      "2021-09-30 23:35:55.082170: I tensorflow/lite/tools/optimize/quantize_weights.cc:234] Skipping quantization of tensor Postprocessor/BatchMultiClassNonMaxSuppression/MultiClassNonMaxSuppression/Concatenate/concat_1 because it has no allocated buffer.\n",
      "2021-09-30 23:35:55.082177: I tensorflow/lite/tools/optimize/quantize_weights.cc:225] Skipping quantization of tensor Postprocessor/BatchMultiClassNonMaxSuppression/MultiClassNonMaxSuppression/Concatenate/concat_3 because it has fewer than 1024 elements (1).\n",
      "2021-09-30 23:35:55.082182: I tensorflow/lite/tools/optimize/quantize_weights.cc:225] Skipping quantization of tensor Postprocessor/BatchMultiClassNonMaxSuppression/MultiClassNonMaxSuppression/Concatenate/concat_4 because it has fewer than 1024 elements (91).\n",
      "2021-09-30 23:35:55.082187: I tensorflow/lite/tools/optimize/quantize_weights.cc:225] Skipping quantization of tensor Postprocessor/BatchMultiClassNonMaxSuppression/MultiClassNonMaxSuppression/Concatenate/concat because it has fewer than 1024 elements (4).\n",
      "2021-09-30 23:35:55.082193: I tensorflow/lite/tools/optimize/quantize_weights.cc:225] Skipping quantization of tensor Postprocessor/BatchMultiClassNonMaxSuppression/MultiClassNonMaxSuppression/SortByField/Gather/GatherV2_1;Concatenate/concat/axis because it has fewer than 1024 elements (1).\n",
      "2021-09-30 23:35:55.082198: I tensorflow/lite/tools/optimize/quantize_weights.cc:225] Skipping quantization of tensor Postprocessor/BatchMultiClassNonMaxSuppression/MultiClassNonMaxSuppression/SortByField/Gather/GatherV2_3;Concatenate/concat/axis because it has fewer than 1024 elements (1).\n",
      "2021-09-30 23:35:55.082203: I tensorflow/lite/tools/optimize/quantize_weights.cc:225] Skipping quantization of tensor Postprocessor/BatchMultiClassNonMaxSuppression/MultiClassNonMaxSuppression/SortByField/Gather/GatherV2_4;Concatenate/concat/axis because it has fewer than 1024 elements (91).\n",
      "2021-09-30 23:35:55.082208: I tensorflow/lite/tools/optimize/quantize_weights.cc:225] Skipping quantization of tensor Postprocessor/BatchMultiClassNonMaxSuppression/MultiClassNonMaxSuppression/SortByField/Gather/GatherV2_5;Concatenate/concat/axis because it has fewer than 1024 elements (1).\n",
      "2021-09-30 23:35:55.082213: I tensorflow/lite/tools/optimize/quantize_weights.cc:225] Skipping quantization of tensor Postprocessor/BatchMultiClassNonMaxSuppression/MultiClassNonMaxSuppression/ClipToWindow/concat because it has fewer than 1024 elements (4).\n",
      "2021-09-30 23:35:55.082218: I tensorflow/lite/tools/optimize/quantize_weights.cc:225] Skipping quantization of tensor Postprocessor/BatchMultiClassNonMaxSuppression/MultiClassNonMaxSuppression/Select_90 because it has fewer than 1024 elements (1).\n",
      "2021-09-30 23:35:55.082224: I tensorflow/lite/tools/optimize/quantize_weights.cc:225] Skipping quantization of tensor Postprocessor/BatchMultiClassNonMaxSuppression/MultiClassNonMaxSuppression/ClipToWindow/Gather/GatherV2_3;Concatenate/concat/axis because it has fewer than 1024 elements (1).\n",
      "2021-09-30 23:35:55.082228: I tensorflow/lite/tools/optimize/quantize_weights.cc:225] Skipping quantization of tensor Postprocessor/BatchMultiClassNonMaxSuppression/MultiClassNonMaxSuppression/ClipToWindow/Gather/GatherV2_4;Concatenate/concat/axis because it has fewer than 1024 elements (91).\n",
      "2021-09-30 23:35:55.082233: I tensorflow/lite/tools/optimize/quantize_weights.cc:225] Skipping quantization of tensor Postprocessor/BatchMultiClassNonMaxSuppression/MultiClassNonMaxSuppression/ClipToWindow/Gather/GatherV2_5;Concatenate/concat/axis because it has fewer than 1024 elements (1).\n",
      "2021-09-30 23:35:55.082238: I tensorflow/lite/tools/optimize/quantize_weights.cc:225] Skipping quantization of tensor Postprocessor/BatchMultiClassNonMaxSuppression/MultiClassNonMaxSuppression/ClipToWindow/Gather/GatherV2_6;Concatenate/concat/axis because it has fewer than 1024 elements (4).\n",
      "2021-09-30 23:35:55.082243: I tensorflow/lite/tools/optimize/quantize_weights.cc:225] Skipping quantization of tensor Postprocessor/BatchMultiClassNonMaxSuppression/MultiClassNonMaxSuppression/SortByField_1/Gather/GatherV2_1;Concatenate/concat/axis because it has fewer than 1024 elements (1).\n",
      "2021-09-30 23:35:55.082248: I tensorflow/lite/tools/optimize/quantize_weights.cc:225] Skipping quantization of tensor Postprocessor/BatchMultiClassNonMaxSuppression/MultiClassNonMaxSuppression/Gather_90/GatherV2_1;Concatenate/concat/axis because it has fewer than 1024 elements (1).\n",
      "2021-09-30 23:35:55.082253: I tensorflow/lite/tools/optimize/quantize_weights.cc:225] Skipping quantization of tensor Postprocessor/BatchMultiClassNonMaxSuppression/MultiClassNonMaxSuppression/SortByField_1/Gather/GatherV2_3;Concatenate/concat/axis because it has fewer than 1024 elements (1).\n",
      "2021-09-30 23:35:55.082258: I tensorflow/lite/tools/optimize/quantize_weights.cc:225] Skipping quantization of tensor Postprocessor/BatchMultiClassNonMaxSuppression/MultiClassNonMaxSuppression/Gather_90/GatherV2_3;Concatenate/concat/axis because it has fewer than 1024 elements (1).\n",
      "2021-09-30 23:35:55.082263: I tensorflow/lite/tools/optimize/quantize_weights.cc:225] Skipping quantization of tensor Postprocessor/BatchMultiClassNonMaxSuppression/MultiClassNonMaxSuppression/SortByField_1/Gather/GatherV2_4;Concatenate/concat/axis because it has fewer than 1024 elements (91).\n",
      "2021-09-30 23:35:55.082268: I tensorflow/lite/tools/optimize/quantize_weights.cc:225] Skipping quantization of tensor Postprocessor/BatchMultiClassNonMaxSuppression/MultiClassNonMaxSuppression/Gather_90/GatherV2_4;Concatenate/concat/axis because it has fewer than 1024 elements (91).\n",
      "2021-09-30 23:35:55.082274: I tensorflow/lite/tools/optimize/quantize_weights.cc:225] Skipping quantization of tensor Postprocessor/BatchMultiClassNonMaxSuppression/MultiClassNonMaxSuppression/SortByField_1/Gather/GatherV2_5;Concatenate/concat/axis because it has fewer than 1024 elements (1).\n",
      "2021-09-30 23:35:55.082278: I tensorflow/lite/tools/optimize/quantize_weights.cc:225] Skipping quantization of tensor Postprocessor/BatchMultiClassNonMaxSuppression/MultiClassNonMaxSuppression/Gather_90/GatherV2_5;Concatenate/concat/axis because it has fewer than 1024 elements (1).\n",
      "2021-09-30 23:35:55.082284: I tensorflow/lite/tools/optimize/quantize_weights.cc:225] Skipping quantization of tensor Postprocessor/BatchMultiClassNonMaxSuppression/MultiClassNonMaxSuppression/ChangeCoordinateFrame/Scale/concat because it has fewer than 1024 elements (4).\n",
      "2021-09-30 23:35:55.082289: I tensorflow/lite/tools/optimize/quantize_weights.cc:225] Skipping quantization of tensor Postprocessor/BatchMultiClassNonMaxSuppression/MultiClassNonMaxSuppression/Gather_90/GatherV2_6;Concatenate/concat/axis because it has fewer than 1024 elements (4).\n"
     ]
    }
   ],
   "source": [
    "import tensorflow as tf\n",
    "_TFLITE_MODEL_PATH = 'Tensorflow/workspace/pre-trained-models/ssd_mobilenet_v2_fpnlite_320x320_coco17_tpu-8/model.tflite'\n",
    "\n",
    "converter = tf.lite.TFLiteConverter.from_saved_model('Tensorflow/workspace/pre-trained-models/ssd_mobilenet_v2_fpnlite_320x320_coco17_tpu-8/saved_model')\n",
    "converter.optimizations = [tf.lite.Optimize.DEFAULT]\n",
    "tflite_model = converter.convert()\n",
    "\n",
    "with open(_TFLITE_MODEL_PATH, 'wb') as f:\n",
    "  f.write(tflite_model)"
   ]
  },
  {
   "cell_type": "code",
   "execution_count": null,
   "metadata": {},
   "outputs": [],
   "source": []
  }
 ],
 "metadata": {
  "kernelspec": {
   "display_name": "Python 3 (ipykernel)",
   "language": "python",
   "name": "python3"
  },
  "language_info": {
   "codemirror_mode": {
    "name": "ipython",
    "version": 3
   },
   "file_extension": ".py",
   "mimetype": "text/x-python",
   "name": "python",
   "nbconvert_exporter": "python",
   "pygments_lexer": "ipython3",
   "version": "3.9.7"
  }
 },
 "nbformat": 4,
 "nbformat_minor": 2
}
